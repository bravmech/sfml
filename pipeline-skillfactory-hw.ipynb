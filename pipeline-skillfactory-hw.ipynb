{
 "cells": [
  {
   "cell_type": "markdown",
   "metadata": {
    "toc": "true"
   },
   "source": [
    "# Table of Contents\n",
    " <p><div class=\"lev1 toc-item\"><a href=\"#Skillfactory---Практический-Machine-Learning\" data-toc-modified-id=\"Skillfactory---Практический-Machine-Learning-1\"><span class=\"toc-item-num\">1&nbsp;&nbsp;</span>Skillfactory - Практический Machine Learning</a></div><div class=\"lev2 toc-item\"><a href=\"#19/02/2018---Аномалии,-работа-с-признаками,-пайплайны-(практика)\" data-toc-modified-id=\"19/02/2018---Аномалии,-работа-с-признаками,-пайплайны-(практика)-11\"><span class=\"toc-item-num\">1.1&nbsp;&nbsp;</span>19/02/2018 - Аномалии, работа с признаками, пайплайны (практика)</a></div><div class=\"lev1 toc-item\"><a href=\"#Создание-пайплайна-и-генерация-признаков\" data-toc-modified-id=\"Создание-пайплайна-и-генерация-признаков-2\"><span class=\"toc-item-num\">2&nbsp;&nbsp;</span>Создание пайплайна и генерация признаков</a></div><div class=\"lev2 toc-item\"><a href=\"#Посмотрим-на-данные\" data-toc-modified-id=\"Посмотрим-на-данные-21\"><span class=\"toc-item-num\">2.1&nbsp;&nbsp;</span>Посмотрим на данные</a></div><div class=\"lev2 toc-item\"><a href=\"#Генерим-признаки\" data-toc-modified-id=\"Генерим-признаки-22\"><span class=\"toc-item-num\">2.2&nbsp;&nbsp;</span>Генерим признаки</a></div><div class=\"lev2 toc-item\"><a href=\"#Подбор-гипер-параметров\" data-toc-modified-id=\"Подбор-гипер-параметров-23\"><span class=\"toc-item-num\">2.3&nbsp;&nbsp;</span>Подбор гипер-параметров</a></div><div class=\"lev3 toc-item\"><a href=\"#Pipeline\" data-toc-modified-id=\"Pipeline-231\"><span class=\"toc-item-num\">2.3.1&nbsp;&nbsp;</span>Pipeline</a></div><div class=\"lev3 toc-item\"><a href=\"#Подбор-гиперпараметров\" data-toc-modified-id=\"Подбор-гиперпараметров-232\"><span class=\"toc-item-num\">2.3.2&nbsp;&nbsp;</span>Подбор гиперпараметров</a></div><div class=\"lev4 toc-item\"><a href=\"#Grid-search\" data-toc-modified-id=\"Grid-search-2321\"><span class=\"toc-item-num\">2.3.2.1&nbsp;&nbsp;</span>Grid search</a></div><div class=\"lev4 toc-item\"><a href=\"#Random-Search\" data-toc-modified-id=\"Random-Search-2322\"><span class=\"toc-item-num\">2.3.2.2&nbsp;&nbsp;</span>Random Search</a></div><div class=\"lev3 toc-item\"><a href=\"#HyperOpt\" data-toc-modified-id=\"HyperOpt-233\"><span class=\"toc-item-num\">2.3.3&nbsp;&nbsp;</span>HyperOpt</a></div><div class=\"lev2 toc-item\"><a href=\"#Ваш-черед\" data-toc-modified-id=\"Ваш-черед-24\"><span class=\"toc-item-num\">2.4&nbsp;&nbsp;</span>Ваш черед</a></div><div class=\"lev3 toc-item\"><a href=\"#Новые-признаки\" data-toc-modified-id=\"Новые-признаки-241\"><span class=\"toc-item-num\">2.4.1&nbsp;&nbsp;</span>Новые признаки</a></div><div class=\"lev2 toc-item\"><a href=\"#Поиск-гиперпараметров\" data-toc-modified-id=\"Поиск-гиперпараметров-25\"><span class=\"toc-item-num\">2.5&nbsp;&nbsp;</span>Поиск гиперпараметров</a></div>"
   ]
  },
  {
   "cell_type": "markdown",
   "metadata": {},
   "source": [
    "# Skillfactory - Практический Machine Learning\n",
    "## 19/02/2018 - Аномалии, работа с признаками, пайплайны (практика)\n",
    "\n",
    "<center> Шестаков Андрей </center>"
   ]
  },
  {
   "cell_type": "code",
   "execution_count": 1,
   "metadata": {},
   "outputs": [],
   "source": [
    "import pandas as pd\n",
    "import numpy as np\n",
    "import matplotlib.pyplot as plt\n",
    "\n",
    "\n",
    "%matplotlib inline\n",
    "\n",
    "plt.style.use('ggplot')\n",
    "plt.rcParams['figure.figsize'] = (12, 8)"
   ]
  },
  {
   "cell_type": "markdown",
   "metadata": {},
   "source": [
    "# Создание пайплайна и генерация признаков\n",
    "<center>Шестаков Андрей</center>"
   ]
  },
  {
   "cell_type": "markdown",
   "metadata": {},
   "source": [
    "В этом задании мы рассмотрим данные с предыдущего Sberbank Data Science Contest. К сожалению найти страницу с конкурсом уже не получается.\n",
    "\n",
    "Одной из задач была опредление пола владельца карты по его транзакциям на карте. Зачем это нужно - одному сберу известно, но эта задача была хороша тем, что в ней можно нагенерировать много разных признаков\n",
    "\n",
    "Есть такая [презентация](https://alexanderdyakonov.files.wordpress.com/2016/10/dj2016_sdsj_vis.pdf) с предварительным анализом данных и идеями про признаки\n",
    "\n",
    "Нам понадобятся файлы `customers_gender_train.csv`, `transactions.tsv.gz`, `mcc_types.tsv` и `trans_types.tsv`."
   ]
  },
  {
   "cell_type": "markdown",
   "metadata": {},
   "source": [
    "## Посмотрим на данные"
   ]
  },
  {
   "cell_type": "markdown",
   "metadata": {},
   "source": [
    "Это метки ответов"
   ]
  },
  {
   "cell_type": "code",
   "execution_count": 2,
   "metadata": {},
   "outputs": [
    {
     "data": {
      "text/html": [
       "<div>\n",
       "<style scoped>\n",
       "    .dataframe tbody tr th:only-of-type {\n",
       "        vertical-align: middle;\n",
       "    }\n",
       "\n",
       "    .dataframe tbody tr th {\n",
       "        vertical-align: top;\n",
       "    }\n",
       "\n",
       "    .dataframe thead th {\n",
       "        text-align: right;\n",
       "    }\n",
       "</style>\n",
       "<table border=\"1\" class=\"dataframe\">\n",
       "  <thead>\n",
       "    <tr style=\"text-align: right;\">\n",
       "      <th></th>\n",
       "      <th>customer_id</th>\n",
       "      <th>gender</th>\n",
       "    </tr>\n",
       "  </thead>\n",
       "  <tbody>\n",
       "    <tr>\n",
       "      <th>0</th>\n",
       "      <td>75562265</td>\n",
       "      <td>0</td>\n",
       "    </tr>\n",
       "    <tr>\n",
       "      <th>1</th>\n",
       "      <td>10928546</td>\n",
       "      <td>1</td>\n",
       "    </tr>\n",
       "    <tr>\n",
       "      <th>2</th>\n",
       "      <td>69348468</td>\n",
       "      <td>1</td>\n",
       "    </tr>\n",
       "    <tr>\n",
       "      <th>3</th>\n",
       "      <td>84816985</td>\n",
       "      <td>1</td>\n",
       "    </tr>\n",
       "    <tr>\n",
       "      <th>4</th>\n",
       "      <td>61009479</td>\n",
       "      <td>0</td>\n",
       "    </tr>\n",
       "  </tbody>\n",
       "</table>\n",
       "</div>"
      ],
      "text/plain": [
       "   customer_id  gender\n",
       "0     75562265       0\n",
       "1     10928546       1\n",
       "2     69348468       1\n",
       "3     84816985       1\n",
       "4     61009479       0"
      ]
     },
     "execution_count": 2,
     "metadata": {},
     "output_type": "execute_result"
    }
   ],
   "source": [
    "df_gender = pd.read_csv('data/customers_gender_train.csv')\n",
    "df_gender.head()"
   ]
  },
  {
   "cell_type": "markdown",
   "metadata": {},
   "source": [
    "Это сами транзакции (отрицательные транзакции - списывание, положительные - зачисление на счет)"
   ]
  },
  {
   "cell_type": "code",
   "execution_count": 3,
   "metadata": {},
   "outputs": [
    {
     "data": {
      "text/html": [
       "<div>\n",
       "<style scoped>\n",
       "    .dataframe tbody tr th:only-of-type {\n",
       "        vertical-align: middle;\n",
       "    }\n",
       "\n",
       "    .dataframe tbody tr th {\n",
       "        vertical-align: top;\n",
       "    }\n",
       "\n",
       "    .dataframe thead th {\n",
       "        text-align: right;\n",
       "    }\n",
       "</style>\n",
       "<table border=\"1\" class=\"dataframe\">\n",
       "  <thead>\n",
       "    <tr style=\"text-align: right;\">\n",
       "      <th></th>\n",
       "      <th>customer_id</th>\n",
       "      <th>tr_datetime</th>\n",
       "      <th>mcc_code</th>\n",
       "      <th>tr_type</th>\n",
       "      <th>amount</th>\n",
       "      <th>term_id</th>\n",
       "    </tr>\n",
       "  </thead>\n",
       "  <tbody>\n",
       "    <tr>\n",
       "      <th>0</th>\n",
       "      <td>39026145</td>\n",
       "      <td>0 10:23:26</td>\n",
       "      <td>4814</td>\n",
       "      <td>1030</td>\n",
       "      <td>-2245.92</td>\n",
       "      <td>NaN</td>\n",
       "    </tr>\n",
       "    <tr>\n",
       "      <th>1</th>\n",
       "      <td>39026145</td>\n",
       "      <td>1 10:19:29</td>\n",
       "      <td>6011</td>\n",
       "      <td>7010</td>\n",
       "      <td>56147.89</td>\n",
       "      <td>NaN</td>\n",
       "    </tr>\n",
       "    <tr>\n",
       "      <th>2</th>\n",
       "      <td>39026145</td>\n",
       "      <td>1 10:20:56</td>\n",
       "      <td>4829</td>\n",
       "      <td>2330</td>\n",
       "      <td>-56147.89</td>\n",
       "      <td>NaN</td>\n",
       "    </tr>\n",
       "    <tr>\n",
       "      <th>3</th>\n",
       "      <td>39026145</td>\n",
       "      <td>1 10:39:54</td>\n",
       "      <td>5499</td>\n",
       "      <td>1010</td>\n",
       "      <td>-1392.47</td>\n",
       "      <td>NaN</td>\n",
       "    </tr>\n",
       "    <tr>\n",
       "      <th>4</th>\n",
       "      <td>39026145</td>\n",
       "      <td>2 15:33:42</td>\n",
       "      <td>5499</td>\n",
       "      <td>1010</td>\n",
       "      <td>-920.83</td>\n",
       "      <td>NaN</td>\n",
       "    </tr>\n",
       "  </tbody>\n",
       "</table>\n",
       "</div>"
      ],
      "text/plain": [
       "   customer_id tr_datetime  mcc_code  tr_type    amount term_id\n",
       "0     39026145  0 10:23:26      4814     1030  -2245.92     NaN\n",
       "1     39026145  1 10:19:29      6011     7010  56147.89     NaN\n",
       "2     39026145  1 10:20:56      4829     2330 -56147.89     NaN\n",
       "3     39026145  1 10:39:54      5499     1010  -1392.47     NaN\n",
       "4     39026145  2 15:33:42      5499     1010   -920.83     NaN"
      ]
     },
     "execution_count": 3,
     "metadata": {},
     "output_type": "execute_result"
    }
   ],
   "source": [
    "df_transactions = pd.read_csv('data/transactions.csv.gz')\n",
    "df_transactions.head()"
   ]
  },
  {
   "cell_type": "markdown",
   "metadata": {},
   "source": [
    "Далее, расшифровки кодов [mcc](https://ru.wikipedia.org/wiki/Merchant_Category_Code) и транзакций"
   ]
  },
  {
   "cell_type": "code",
   "execution_count": 4,
   "metadata": {},
   "outputs": [
    {
     "data": {
      "text/html": [
       "<div>\n",
       "<style scoped>\n",
       "    .dataframe tbody tr th:only-of-type {\n",
       "        vertical-align: middle;\n",
       "    }\n",
       "\n",
       "    .dataframe tbody tr th {\n",
       "        vertical-align: top;\n",
       "    }\n",
       "\n",
       "    .dataframe thead th {\n",
       "        text-align: right;\n",
       "    }\n",
       "</style>\n",
       "<table border=\"1\" class=\"dataframe\">\n",
       "  <thead>\n",
       "    <tr style=\"text-align: right;\">\n",
       "      <th></th>\n",
       "      <th>tr_type</th>\n",
       "      <th>tr_description</th>\n",
       "    </tr>\n",
       "  </thead>\n",
       "  <tbody>\n",
       "    <tr>\n",
       "      <th>0</th>\n",
       "      <td>3200</td>\n",
       "      <td>Плата за предоставление услуг посредством моби...</td>\n",
       "    </tr>\n",
       "    <tr>\n",
       "      <th>1</th>\n",
       "      <td>3210</td>\n",
       "      <td>Плата за предоставление отчета по счету карты ...</td>\n",
       "    </tr>\n",
       "    <tr>\n",
       "      <th>2</th>\n",
       "      <td>3800</td>\n",
       "      <td>Плата за обслуживание банковской карты (за пер...</td>\n",
       "    </tr>\n",
       "    <tr>\n",
       "      <th>3</th>\n",
       "      <td>4000</td>\n",
       "      <td>Плата за получение наличных в Сбербанке</td>\n",
       "    </tr>\n",
       "    <tr>\n",
       "      <th>4</th>\n",
       "      <td>4001</td>\n",
       "      <td>Плата за получение наличных в Сбербанке (в дру...</td>\n",
       "    </tr>\n",
       "  </tbody>\n",
       "</table>\n",
       "</div>"
      ],
      "text/plain": [
       "   tr_type                                     tr_description\n",
       "0     3200  Плата за предоставление услуг посредством моби...\n",
       "1     3210  Плата за предоставление отчета по счету карты ...\n",
       "2     3800  Плата за обслуживание банковской карты (за пер...\n",
       "3     4000            Плата за получение наличных в Сбербанке\n",
       "4     4001  Плата за получение наличных в Сбербанке (в дру..."
      ]
     },
     "execution_count": 4,
     "metadata": {},
     "output_type": "execute_result"
    }
   ],
   "source": [
    "df_tr = pd.read_csv('data/tr_types.csv', sep=';')\n",
    "df_tr.head()"
   ]
  },
  {
   "cell_type": "code",
   "execution_count": 5,
   "metadata": {},
   "outputs": [
    {
     "data": {
      "text/html": [
       "<div>\n",
       "<style scoped>\n",
       "    .dataframe tbody tr th:only-of-type {\n",
       "        vertical-align: middle;\n",
       "    }\n",
       "\n",
       "    .dataframe tbody tr th {\n",
       "        vertical-align: top;\n",
       "    }\n",
       "\n",
       "    .dataframe thead th {\n",
       "        text-align: right;\n",
       "    }\n",
       "</style>\n",
       "<table border=\"1\" class=\"dataframe\">\n",
       "  <thead>\n",
       "    <tr style=\"text-align: right;\">\n",
       "      <th></th>\n",
       "      <th>mcc_code</th>\n",
       "      <th>mcc_description</th>\n",
       "    </tr>\n",
       "  </thead>\n",
       "  <tbody>\n",
       "    <tr>\n",
       "      <th>0</th>\n",
       "      <td>742</td>\n",
       "      <td>Ветеринарные услуги</td>\n",
       "    </tr>\n",
       "    <tr>\n",
       "      <th>1</th>\n",
       "      <td>1711</td>\n",
       "      <td>Генеральные подрядчики по вентиляции, теплосна...</td>\n",
       "    </tr>\n",
       "    <tr>\n",
       "      <th>2</th>\n",
       "      <td>1731</td>\n",
       "      <td>Подрядчики по электричеству</td>\n",
       "    </tr>\n",
       "    <tr>\n",
       "      <th>3</th>\n",
       "      <td>1799</td>\n",
       "      <td>Подрядчики, специализированная торговля — нигд...</td>\n",
       "    </tr>\n",
       "    <tr>\n",
       "      <th>4</th>\n",
       "      <td>2741</td>\n",
       "      <td>Разнообразные издательства/печатное дело</td>\n",
       "    </tr>\n",
       "  </tbody>\n",
       "</table>\n",
       "</div>"
      ],
      "text/plain": [
       "   mcc_code                                    mcc_description\n",
       "0       742                                Ветеринарные услуги\n",
       "1      1711  Генеральные подрядчики по вентиляции, теплосна...\n",
       "2      1731                        Подрядчики по электричеству\n",
       "3      1799  Подрядчики, специализированная торговля — нигд...\n",
       "4      2741           Разнообразные издательства/печатное дело"
      ]
     },
     "execution_count": 5,
     "metadata": {},
     "output_type": "execute_result"
    }
   ],
   "source": [
    "df_mcc = pd.read_csv('data/tr_mcc_codes.csv', sep=';')\n",
    "df_mcc.head()"
   ]
  },
  {
   "cell_type": "markdown",
   "metadata": {},
   "source": [
    "Первое что мы видем - это странная дата и суммы в транзакциях. \n",
    "\n",
    "В принципе, посмотрев на исходное распределение \"относительных\" дат по какой-нибудь гендерной группы mcc, становится примерно понятно, что за даты закодированы.\n",
    "\n",
    "Ну а суммы транзакций организаторы просто умножили на $\\pi^{\\exp}$ =)\n",
    "\n",
    "Преобразование будет проделано ниже, но при желании, можете сами со всем разобраться."
   ]
  },
  {
   "cell_type": "code",
   "execution_count": 6,
   "metadata": {},
   "outputs": [],
   "source": [
    "from pandas import Timestamp, DateOffset"
   ]
  },
  {
   "cell_type": "code",
   "execution_count": 7,
   "metadata": {},
   "outputs": [],
   "source": [
    "def preproc_transactions(df_transactions):\n",
    "    sec_per_day = 86400\n",
    "    sec_per_hour = 3600\n",
    "    \n",
    "    start_date = 1420070400 - 154 * sec_per_day - 3 * sec_per_hour\n",
    "    \n",
    "    df_transactions.loc[:, 'day'] = (\n",
    "        df_transactions.tr_datetime\n",
    "        .str.split(' ')\n",
    "        .str.get(0)\n",
    "        .astype(int)\n",
    "    )\n",
    "    df_transactions.loc[:, 'time_raw'] = (\n",
    "        df_transactions.tr_datetime\n",
    "        .str.split(' ')\n",
    "        .str.get(1)\n",
    "    )\n",
    "\n",
    "    # set temp dt\n",
    "    df_transactions.loc[:, 'dt_temp'] = (\n",
    "        pd.to_datetime(df_transactions.loc[:, 'time_raw'], format='%H:%M:%S') +\n",
    "        DateOffset(years=115)\n",
    "    )\n",
    "    \n",
    "    df_transactions = (\n",
    "        df_transactions.assign(\n",
    "            dt = lambda x: x.dt_temp.astype(np.int64) // 10**9 + (x.day - 153) * sec_per_day\n",
    "        ).assign(weekday = lambda x: ((x.day + 4) % 7 + 1))\n",
    "    )\n",
    "        \n",
    "    df_transactions.loc[:, 'datetime'] = pd.to_datetime(df_transactions.dt, unit='s')\n",
    "    df_transactions.loc[:, 'date'] = df_transactions.loc[:, 'datetime'].dt.strftime('%Y-%m-%d')\n",
    "    df_transactions.loc[:, 'hour'] = df_transactions.loc[:, 'datetime'].dt.strftime('%H')\n",
    "    \n",
    "    df_transactions = df_transactions.drop(['dt_temp', 'time_raw', 'tr_datetime'], axis=1)\n",
    "    \n",
    "    df_transactions.loc[:, 'amount'] = np.round(df_transactions.loc[:, 'amount'] / (np.pi**np.exp(1)))\n",
    "            \n",
    "    return df_transactions"
   ]
  },
  {
   "cell_type": "code",
   "execution_count": 8,
   "metadata": {},
   "outputs": [],
   "source": [
    "df_transactions = df_transactions.pipe(preproc_transactions)"
   ]
  },
  {
   "cell_type": "code",
   "execution_count": 9,
   "metadata": {},
   "outputs": [
    {
     "data": {
      "text/html": [
       "<div>\n",
       "<style scoped>\n",
       "    .dataframe tbody tr th:only-of-type {\n",
       "        vertical-align: middle;\n",
       "    }\n",
       "\n",
       "    .dataframe tbody tr th {\n",
       "        vertical-align: top;\n",
       "    }\n",
       "\n",
       "    .dataframe thead th {\n",
       "        text-align: right;\n",
       "    }\n",
       "</style>\n",
       "<table border=\"1\" class=\"dataframe\">\n",
       "  <thead>\n",
       "    <tr style=\"text-align: right;\">\n",
       "      <th></th>\n",
       "      <th>customer_id</th>\n",
       "      <th>mcc_code</th>\n",
       "      <th>tr_type</th>\n",
       "      <th>amount</th>\n",
       "      <th>term_id</th>\n",
       "      <th>day</th>\n",
       "      <th>dt</th>\n",
       "      <th>weekday</th>\n",
       "      <th>datetime</th>\n",
       "      <th>date</th>\n",
       "      <th>hour</th>\n",
       "    </tr>\n",
       "  </thead>\n",
       "  <tbody>\n",
       "    <tr>\n",
       "      <th>0</th>\n",
       "      <td>39026145</td>\n",
       "      <td>4814</td>\n",
       "      <td>1030</td>\n",
       "      <td>-100.0</td>\n",
       "      <td>NaN</td>\n",
       "      <td>0</td>\n",
       "      <td>1406888606</td>\n",
       "      <td>5</td>\n",
       "      <td>2014-08-01 10:23:26</td>\n",
       "      <td>2014-08-01</td>\n",
       "      <td>10</td>\n",
       "    </tr>\n",
       "    <tr>\n",
       "      <th>1</th>\n",
       "      <td>39026145</td>\n",
       "      <td>6011</td>\n",
       "      <td>7010</td>\n",
       "      <td>2500.0</td>\n",
       "      <td>NaN</td>\n",
       "      <td>1</td>\n",
       "      <td>1406974769</td>\n",
       "      <td>6</td>\n",
       "      <td>2014-08-02 10:19:29</td>\n",
       "      <td>2014-08-02</td>\n",
       "      <td>10</td>\n",
       "    </tr>\n",
       "    <tr>\n",
       "      <th>2</th>\n",
       "      <td>39026145</td>\n",
       "      <td>4829</td>\n",
       "      <td>2330</td>\n",
       "      <td>-2500.0</td>\n",
       "      <td>NaN</td>\n",
       "      <td>1</td>\n",
       "      <td>1406974856</td>\n",
       "      <td>6</td>\n",
       "      <td>2014-08-02 10:20:56</td>\n",
       "      <td>2014-08-02</td>\n",
       "      <td>10</td>\n",
       "    </tr>\n",
       "    <tr>\n",
       "      <th>3</th>\n",
       "      <td>39026145</td>\n",
       "      <td>5499</td>\n",
       "      <td>1010</td>\n",
       "      <td>-62.0</td>\n",
       "      <td>NaN</td>\n",
       "      <td>1</td>\n",
       "      <td>1406975994</td>\n",
       "      <td>6</td>\n",
       "      <td>2014-08-02 10:39:54</td>\n",
       "      <td>2014-08-02</td>\n",
       "      <td>10</td>\n",
       "    </tr>\n",
       "    <tr>\n",
       "      <th>4</th>\n",
       "      <td>39026145</td>\n",
       "      <td>5499</td>\n",
       "      <td>1010</td>\n",
       "      <td>-41.0</td>\n",
       "      <td>NaN</td>\n",
       "      <td>2</td>\n",
       "      <td>1407080022</td>\n",
       "      <td>7</td>\n",
       "      <td>2014-08-03 15:33:42</td>\n",
       "      <td>2014-08-03</td>\n",
       "      <td>15</td>\n",
       "    </tr>\n",
       "  </tbody>\n",
       "</table>\n",
       "</div>"
      ],
      "text/plain": [
       "   customer_id  mcc_code  tr_type  amount term_id  day          dt  weekday  \\\n",
       "0     39026145      4814     1030  -100.0     NaN    0  1406888606        5   \n",
       "1     39026145      6011     7010  2500.0     NaN    1  1406974769        6   \n",
       "2     39026145      4829     2330 -2500.0     NaN    1  1406974856        6   \n",
       "3     39026145      5499     1010   -62.0     NaN    1  1406975994        6   \n",
       "4     39026145      5499     1010   -41.0     NaN    2  1407080022        7   \n",
       "\n",
       "             datetime        date hour  \n",
       "0 2014-08-01 10:23:26  2014-08-01   10  \n",
       "1 2014-08-02 10:19:29  2014-08-02   10  \n",
       "2 2014-08-02 10:20:56  2014-08-02   10  \n",
       "3 2014-08-02 10:39:54  2014-08-02   10  \n",
       "4 2014-08-03 15:33:42  2014-08-03   15  "
      ]
     },
     "execution_count": 9,
     "metadata": {},
     "output_type": "execute_result"
    }
   ],
   "source": [
    "df_transactions.head()"
   ]
  },
  {
   "cell_type": "markdown",
   "metadata": {},
   "source": [
    "## Генерим признаки"
   ]
  },
  {
   "cell_type": "markdown",
   "metadata": {},
   "source": [
    "В качестве базовых признаков, можно взять, например, \n",
    "* количество (доля) транзакций по каждому mcc_code\n",
    "* количество (доля) транзакций в разные промежутки времени"
   ]
  },
  {
   "cell_type": "code",
   "execution_count": 10,
   "metadata": {},
   "outputs": [],
   "source": [
    "def gen_features(df_gender, df_transactions):\n",
    "    \n",
    "    df_mcc_counts = \\\n",
    "        df_transactions.pivot_table(index=['customer_id'], columns='mcc_code', values='amount', \n",
    "                             aggfunc=np.size, fill_value=0)\n",
    "\n",
    "    df_mcc_counts = df_mcc_counts.rename_axis(lambda x: 'mcc_{}_count'.format(x), axis=1)\n",
    "\n",
    "    df_hour_rations = \\\n",
    "        df_transactions.pivot_table(index=['customer_id'], columns='hour', values='amount', \n",
    "                             aggfunc=np.size, fill_value=0)\n",
    "\n",
    "    # Сложная и нетривиальная конструкция\n",
    "    total = df_hour_rations.sum(axis=1)\n",
    "    df_hour_rations.loc[:, 'morning'] = (df_hour_rations.loc[:, '05':'11'].sum(axis=1).T / total).T\n",
    "    df_hour_rations.loc[:, 'day'] = (df_hour_rations.loc[:, '12':'17'].sum(axis=1).T / total).T\n",
    "    df_hour_rations.loc[:, 'evening'] = (df_hour_rations.loc[:, '18':'23'].sum(axis=1).T / total).T\n",
    "    df_hour_rations.loc[:, 'night'] = (df_hour_rations.loc[:, '00':'04'].sum(axis=1).T / total).T\n",
    "\n",
    "    # Объединяем:\n",
    "    df_features = (\n",
    "        df_gender\n",
    "        .join(df_mcc_counts, on='customer_id', how='left')\n",
    "        .join(df_hour_rations.loc[:, ['morning', 'day', 'evening', 'night']],\n",
    "              on='customer_id', how='left')\n",
    "    )\n",
    "        \n",
    "    return df_features"
   ]
  },
  {
   "cell_type": "code",
   "execution_count": 11,
   "metadata": {},
   "outputs": [],
   "source": [
    "    df_hour_rations = \\\n",
    "        df_transactions.pivot_table(index=['customer_id'], columns='hour', values='amount', \n",
    "                             aggfunc=np.size, fill_value=0)\n",
    "    total = df_hour_rations.sum(axis=1)"
   ]
  },
  {
   "cell_type": "code",
   "execution_count": 12,
   "metadata": {},
   "outputs": [
    {
     "name": "stderr",
     "output_type": "stream",
     "text": [
      "/home/mtomilov/.local/lib/python3.6/site-packages/ipykernel_launcher.py:7: FutureWarning: Using 'rename_axis' to alter labels is deprecated. Use '.rename' instead\n",
      "  import sys\n"
     ]
    }
   ],
   "source": [
    "df_features = df_gender.pipe(gen_features, df_transactions)"
   ]
  },
  {
   "cell_type": "code",
   "execution_count": 13,
   "metadata": {},
   "outputs": [
    {
     "data": {
      "text/plain": [
       "(6849346, 11)"
      ]
     },
     "execution_count": 13,
     "metadata": {},
     "output_type": "execute_result"
    }
   ],
   "source": [
    "df_transactions.shape"
   ]
  },
  {
   "cell_type": "code",
   "execution_count": 14,
   "metadata": {},
   "outputs": [
    {
     "data": {
      "text/plain": [
       "(12000, 2)"
      ]
     },
     "execution_count": 14,
     "metadata": {},
     "output_type": "execute_result"
    }
   ],
   "source": [
    "df_gender.shape"
   ]
  },
  {
   "cell_type": "code",
   "execution_count": 15,
   "metadata": {},
   "outputs": [
    {
     "data": {
      "text/plain": [
       "(12000, 190)"
      ]
     },
     "execution_count": 15,
     "metadata": {},
     "output_type": "execute_result"
    }
   ],
   "source": [
    "df_features.shape"
   ]
  },
  {
   "cell_type": "code",
   "execution_count": 16,
   "metadata": {},
   "outputs": [
    {
     "data": {
      "text/html": [
       "<div>\n",
       "<style scoped>\n",
       "    .dataframe tbody tr th:only-of-type {\n",
       "        vertical-align: middle;\n",
       "    }\n",
       "\n",
       "    .dataframe tbody tr th {\n",
       "        vertical-align: top;\n",
       "    }\n",
       "\n",
       "    .dataframe thead th {\n",
       "        text-align: right;\n",
       "    }\n",
       "</style>\n",
       "<table border=\"1\" class=\"dataframe\">\n",
       "  <thead>\n",
       "    <tr style=\"text-align: right;\">\n",
       "      <th></th>\n",
       "      <th>customer_id</th>\n",
       "      <th>gender</th>\n",
       "      <th>mcc_742_count</th>\n",
       "      <th>mcc_1711_count</th>\n",
       "      <th>mcc_1731_count</th>\n",
       "      <th>mcc_1799_count</th>\n",
       "      <th>mcc_2741_count</th>\n",
       "      <th>mcc_3000_count</th>\n",
       "      <th>mcc_3351_count</th>\n",
       "      <th>mcc_3501_count</th>\n",
       "      <th>...</th>\n",
       "      <th>mcc_8999_count</th>\n",
       "      <th>mcc_9211_count</th>\n",
       "      <th>mcc_9222_count</th>\n",
       "      <th>mcc_9311_count</th>\n",
       "      <th>mcc_9399_count</th>\n",
       "      <th>mcc_9402_count</th>\n",
       "      <th>morning</th>\n",
       "      <th>day</th>\n",
       "      <th>evening</th>\n",
       "      <th>night</th>\n",
       "    </tr>\n",
       "  </thead>\n",
       "  <tbody>\n",
       "    <tr>\n",
       "      <th>0</th>\n",
       "      <td>75562265</td>\n",
       "      <td>0</td>\n",
       "      <td>0</td>\n",
       "      <td>0</td>\n",
       "      <td>0</td>\n",
       "      <td>0</td>\n",
       "      <td>0</td>\n",
       "      <td>0</td>\n",
       "      <td>0</td>\n",
       "      <td>0</td>\n",
       "      <td>...</td>\n",
       "      <td>0</td>\n",
       "      <td>0</td>\n",
       "      <td>0</td>\n",
       "      <td>0</td>\n",
       "      <td>0</td>\n",
       "      <td>0</td>\n",
       "      <td>0.262658</td>\n",
       "      <td>0.329114</td>\n",
       "      <td>0.325949</td>\n",
       "      <td>0.082278</td>\n",
       "    </tr>\n",
       "    <tr>\n",
       "      <th>1</th>\n",
       "      <td>10928546</td>\n",
       "      <td>1</td>\n",
       "      <td>0</td>\n",
       "      <td>0</td>\n",
       "      <td>0</td>\n",
       "      <td>0</td>\n",
       "      <td>0</td>\n",
       "      <td>0</td>\n",
       "      <td>0</td>\n",
       "      <td>0</td>\n",
       "      <td>...</td>\n",
       "      <td>1</td>\n",
       "      <td>0</td>\n",
       "      <td>0</td>\n",
       "      <td>0</td>\n",
       "      <td>2</td>\n",
       "      <td>0</td>\n",
       "      <td>0.352697</td>\n",
       "      <td>0.413555</td>\n",
       "      <td>0.042877</td>\n",
       "      <td>0.190871</td>\n",
       "    </tr>\n",
       "    <tr>\n",
       "      <th>2</th>\n",
       "      <td>69348468</td>\n",
       "      <td>1</td>\n",
       "      <td>0</td>\n",
       "      <td>0</td>\n",
       "      <td>0</td>\n",
       "      <td>0</td>\n",
       "      <td>0</td>\n",
       "      <td>0</td>\n",
       "      <td>0</td>\n",
       "      <td>0</td>\n",
       "      <td>...</td>\n",
       "      <td>2</td>\n",
       "      <td>0</td>\n",
       "      <td>0</td>\n",
       "      <td>0</td>\n",
       "      <td>0</td>\n",
       "      <td>0</td>\n",
       "      <td>0.296804</td>\n",
       "      <td>0.493151</td>\n",
       "      <td>0.196347</td>\n",
       "      <td>0.013699</td>\n",
       "    </tr>\n",
       "    <tr>\n",
       "      <th>3</th>\n",
       "      <td>84816985</td>\n",
       "      <td>1</td>\n",
       "      <td>0</td>\n",
       "      <td>0</td>\n",
       "      <td>0</td>\n",
       "      <td>0</td>\n",
       "      <td>0</td>\n",
       "      <td>0</td>\n",
       "      <td>0</td>\n",
       "      <td>0</td>\n",
       "      <td>...</td>\n",
       "      <td>0</td>\n",
       "      <td>0</td>\n",
       "      <td>0</td>\n",
       "      <td>0</td>\n",
       "      <td>0</td>\n",
       "      <td>0</td>\n",
       "      <td>0.247423</td>\n",
       "      <td>0.494845</td>\n",
       "      <td>0.216495</td>\n",
       "      <td>0.041237</td>\n",
       "    </tr>\n",
       "    <tr>\n",
       "      <th>4</th>\n",
       "      <td>61009479</td>\n",
       "      <td>0</td>\n",
       "      <td>0</td>\n",
       "      <td>0</td>\n",
       "      <td>0</td>\n",
       "      <td>0</td>\n",
       "      <td>0</td>\n",
       "      <td>0</td>\n",
       "      <td>0</td>\n",
       "      <td>0</td>\n",
       "      <td>...</td>\n",
       "      <td>0</td>\n",
       "      <td>0</td>\n",
       "      <td>0</td>\n",
       "      <td>0</td>\n",
       "      <td>0</td>\n",
       "      <td>0</td>\n",
       "      <td>0.636943</td>\n",
       "      <td>0.239915</td>\n",
       "      <td>0.004246</td>\n",
       "      <td>0.118896</td>\n",
       "    </tr>\n",
       "  </tbody>\n",
       "</table>\n",
       "<p>5 rows × 190 columns</p>\n",
       "</div>"
      ],
      "text/plain": [
       "   customer_id  gender  mcc_742_count  mcc_1711_count  mcc_1731_count  \\\n",
       "0     75562265       0              0               0               0   \n",
       "1     10928546       1              0               0               0   \n",
       "2     69348468       1              0               0               0   \n",
       "3     84816985       1              0               0               0   \n",
       "4     61009479       0              0               0               0   \n",
       "\n",
       "   mcc_1799_count  mcc_2741_count  mcc_3000_count  mcc_3351_count  \\\n",
       "0               0               0               0               0   \n",
       "1               0               0               0               0   \n",
       "2               0               0               0               0   \n",
       "3               0               0               0               0   \n",
       "4               0               0               0               0   \n",
       "\n",
       "   mcc_3501_count    ...     mcc_8999_count  mcc_9211_count  mcc_9222_count  \\\n",
       "0               0    ...                  0               0               0   \n",
       "1               0    ...                  1               0               0   \n",
       "2               0    ...                  2               0               0   \n",
       "3               0    ...                  0               0               0   \n",
       "4               0    ...                  0               0               0   \n",
       "\n",
       "   mcc_9311_count  mcc_9399_count  mcc_9402_count   morning       day  \\\n",
       "0               0               0               0  0.262658  0.329114   \n",
       "1               0               2               0  0.352697  0.413555   \n",
       "2               0               0               0  0.296804  0.493151   \n",
       "3               0               0               0  0.247423  0.494845   \n",
       "4               0               0               0  0.636943  0.239915   \n",
       "\n",
       "    evening     night  \n",
       "0  0.325949  0.082278  \n",
       "1  0.042877  0.190871  \n",
       "2  0.196347  0.013699  \n",
       "3  0.216495  0.041237  \n",
       "4  0.004246  0.118896  \n",
       "\n",
       "[5 rows x 190 columns]"
      ]
     },
     "execution_count": 16,
     "metadata": {},
     "output_type": "execute_result"
    }
   ],
   "source": [
    "df_features.head()"
   ]
  },
  {
   "cell_type": "code",
   "execution_count": 17,
   "metadata": {},
   "outputs": [],
   "source": [
    "label = 'gender'\n",
    "idx_features = df_features.columns != label"
   ]
  },
  {
   "cell_type": "code",
   "execution_count": 18,
   "metadata": {},
   "outputs": [],
   "source": [
    "X = df_features.loc[:, idx_features].values\n",
    "y = df_features.loc[:, ~idx_features].values.flatten()"
   ]
  },
  {
   "cell_type": "code",
   "execution_count": 19,
   "metadata": {},
   "outputs": [
    {
     "data": {
      "text/html": [
       "<div>\n",
       "<style scoped>\n",
       "    .dataframe tbody tr th:only-of-type {\n",
       "        vertical-align: middle;\n",
       "    }\n",
       "\n",
       "    .dataframe tbody tr th {\n",
       "        vertical-align: top;\n",
       "    }\n",
       "\n",
       "    .dataframe thead th {\n",
       "        text-align: right;\n",
       "    }\n",
       "</style>\n",
       "<table border=\"1\" class=\"dataframe\">\n",
       "  <thead>\n",
       "    <tr style=\"text-align: right;\">\n",
       "      <th></th>\n",
       "      <th>0</th>\n",
       "      <th>1</th>\n",
       "      <th>2</th>\n",
       "      <th>3</th>\n",
       "      <th>4</th>\n",
       "    </tr>\n",
       "  </thead>\n",
       "  <tbody>\n",
       "    <tr>\n",
       "      <th>customer_id</th>\n",
       "      <td>75562265</td>\n",
       "      <td>10928546</td>\n",
       "      <td>69348468</td>\n",
       "      <td>84816985</td>\n",
       "      <td>61009479</td>\n",
       "    </tr>\n",
       "    <tr>\n",
       "      <th>mcc_742_count</th>\n",
       "      <td>0</td>\n",
       "      <td>0</td>\n",
       "      <td>0</td>\n",
       "      <td>0</td>\n",
       "      <td>0</td>\n",
       "    </tr>\n",
       "    <tr>\n",
       "      <th>mcc_1711_count</th>\n",
       "      <td>0</td>\n",
       "      <td>0</td>\n",
       "      <td>0</td>\n",
       "      <td>0</td>\n",
       "      <td>0</td>\n",
       "    </tr>\n",
       "    <tr>\n",
       "      <th>mcc_1731_count</th>\n",
       "      <td>0</td>\n",
       "      <td>0</td>\n",
       "      <td>0</td>\n",
       "      <td>0</td>\n",
       "      <td>0</td>\n",
       "    </tr>\n",
       "    <tr>\n",
       "      <th>mcc_1799_count</th>\n",
       "      <td>0</td>\n",
       "      <td>0</td>\n",
       "      <td>0</td>\n",
       "      <td>0</td>\n",
       "      <td>0</td>\n",
       "    </tr>\n",
       "    <tr>\n",
       "      <th>mcc_2741_count</th>\n",
       "      <td>0</td>\n",
       "      <td>0</td>\n",
       "      <td>0</td>\n",
       "      <td>0</td>\n",
       "      <td>0</td>\n",
       "    </tr>\n",
       "    <tr>\n",
       "      <th>mcc_3000_count</th>\n",
       "      <td>0</td>\n",
       "      <td>0</td>\n",
       "      <td>0</td>\n",
       "      <td>0</td>\n",
       "      <td>0</td>\n",
       "    </tr>\n",
       "    <tr>\n",
       "      <th>mcc_3351_count</th>\n",
       "      <td>0</td>\n",
       "      <td>0</td>\n",
       "      <td>0</td>\n",
       "      <td>0</td>\n",
       "      <td>0</td>\n",
       "    </tr>\n",
       "    <tr>\n",
       "      <th>mcc_3501_count</th>\n",
       "      <td>0</td>\n",
       "      <td>0</td>\n",
       "      <td>0</td>\n",
       "      <td>0</td>\n",
       "      <td>0</td>\n",
       "    </tr>\n",
       "    <tr>\n",
       "      <th>mcc_4111_count</th>\n",
       "      <td>0</td>\n",
       "      <td>0</td>\n",
       "      <td>0</td>\n",
       "      <td>0</td>\n",
       "      <td>0</td>\n",
       "    </tr>\n",
       "    <tr>\n",
       "      <th>mcc_4112_count</th>\n",
       "      <td>0</td>\n",
       "      <td>0</td>\n",
       "      <td>0</td>\n",
       "      <td>0</td>\n",
       "      <td>2</td>\n",
       "    </tr>\n",
       "    <tr>\n",
       "      <th>mcc_4121_count</th>\n",
       "      <td>0</td>\n",
       "      <td>0</td>\n",
       "      <td>0</td>\n",
       "      <td>0</td>\n",
       "      <td>0</td>\n",
       "    </tr>\n",
       "    <tr>\n",
       "      <th>mcc_4131_count</th>\n",
       "      <td>0</td>\n",
       "      <td>0</td>\n",
       "      <td>0</td>\n",
       "      <td>0</td>\n",
       "      <td>0</td>\n",
       "    </tr>\n",
       "    <tr>\n",
       "      <th>mcc_4214_count</th>\n",
       "      <td>0</td>\n",
       "      <td>0</td>\n",
       "      <td>0</td>\n",
       "      <td>0</td>\n",
       "      <td>0</td>\n",
       "    </tr>\n",
       "    <tr>\n",
       "      <th>mcc_4215_count</th>\n",
       "      <td>0</td>\n",
       "      <td>0</td>\n",
       "      <td>0</td>\n",
       "      <td>0</td>\n",
       "      <td>0</td>\n",
       "    </tr>\n",
       "    <tr>\n",
       "      <th>mcc_4411_count</th>\n",
       "      <td>0</td>\n",
       "      <td>0</td>\n",
       "      <td>0</td>\n",
       "      <td>0</td>\n",
       "      <td>0</td>\n",
       "    </tr>\n",
       "    <tr>\n",
       "      <th>mcc_4511_count</th>\n",
       "      <td>0</td>\n",
       "      <td>0</td>\n",
       "      <td>0</td>\n",
       "      <td>0</td>\n",
       "      <td>0</td>\n",
       "    </tr>\n",
       "    <tr>\n",
       "      <th>mcc_4722_count</th>\n",
       "      <td>0</td>\n",
       "      <td>1</td>\n",
       "      <td>0</td>\n",
       "      <td>0</td>\n",
       "      <td>0</td>\n",
       "    </tr>\n",
       "    <tr>\n",
       "      <th>mcc_4784_count</th>\n",
       "      <td>0</td>\n",
       "      <td>0</td>\n",
       "      <td>0</td>\n",
       "      <td>0</td>\n",
       "      <td>0</td>\n",
       "    </tr>\n",
       "    <tr>\n",
       "      <th>mcc_4789_count</th>\n",
       "      <td>0</td>\n",
       "      <td>0</td>\n",
       "      <td>0</td>\n",
       "      <td>0</td>\n",
       "      <td>0</td>\n",
       "    </tr>\n",
       "    <tr>\n",
       "      <th>mcc_4812_count</th>\n",
       "      <td>0</td>\n",
       "      <td>0</td>\n",
       "      <td>0</td>\n",
       "      <td>1</td>\n",
       "      <td>0</td>\n",
       "    </tr>\n",
       "    <tr>\n",
       "      <th>mcc_4814_count</th>\n",
       "      <td>200</td>\n",
       "      <td>91</td>\n",
       "      <td>27</td>\n",
       "      <td>16</td>\n",
       "      <td>70</td>\n",
       "    </tr>\n",
       "    <tr>\n",
       "      <th>mcc_4816_count</th>\n",
       "      <td>0</td>\n",
       "      <td>0</td>\n",
       "      <td>0</td>\n",
       "      <td>0</td>\n",
       "      <td>3</td>\n",
       "    </tr>\n",
       "    <tr>\n",
       "      <th>mcc_4829_count</th>\n",
       "      <td>0</td>\n",
       "      <td>64</td>\n",
       "      <td>1</td>\n",
       "      <td>4</td>\n",
       "      <td>85</td>\n",
       "    </tr>\n",
       "    <tr>\n",
       "      <th>mcc_4899_count</th>\n",
       "      <td>0</td>\n",
       "      <td>0</td>\n",
       "      <td>0</td>\n",
       "      <td>0</td>\n",
       "      <td>0</td>\n",
       "    </tr>\n",
       "    <tr>\n",
       "      <th>mcc_4900_count</th>\n",
       "      <td>0</td>\n",
       "      <td>0</td>\n",
       "      <td>0</td>\n",
       "      <td>0</td>\n",
       "      <td>0</td>\n",
       "    </tr>\n",
       "    <tr>\n",
       "      <th>mcc_5013_count</th>\n",
       "      <td>0</td>\n",
       "      <td>0</td>\n",
       "      <td>0</td>\n",
       "      <td>0</td>\n",
       "      <td>0</td>\n",
       "    </tr>\n",
       "    <tr>\n",
       "      <th>mcc_5039_count</th>\n",
       "      <td>0</td>\n",
       "      <td>0</td>\n",
       "      <td>0</td>\n",
       "      <td>0</td>\n",
       "      <td>0</td>\n",
       "    </tr>\n",
       "    <tr>\n",
       "      <th>mcc_5044_count</th>\n",
       "      <td>0</td>\n",
       "      <td>0</td>\n",
       "      <td>0</td>\n",
       "      <td>0</td>\n",
       "      <td>0</td>\n",
       "    </tr>\n",
       "    <tr>\n",
       "      <th>mcc_5045_count</th>\n",
       "      <td>0</td>\n",
       "      <td>0</td>\n",
       "      <td>0</td>\n",
       "      <td>0</td>\n",
       "      <td>0</td>\n",
       "    </tr>\n",
       "    <tr>\n",
       "      <th>...</th>\n",
       "      <td>...</td>\n",
       "      <td>...</td>\n",
       "      <td>...</td>\n",
       "      <td>...</td>\n",
       "      <td>...</td>\n",
       "    </tr>\n",
       "    <tr>\n",
       "      <th>mcc_7933_count</th>\n",
       "      <td>0</td>\n",
       "      <td>0</td>\n",
       "      <td>0</td>\n",
       "      <td>0</td>\n",
       "      <td>0</td>\n",
       "    </tr>\n",
       "    <tr>\n",
       "      <th>mcc_7991_count</th>\n",
       "      <td>0</td>\n",
       "      <td>0</td>\n",
       "      <td>0</td>\n",
       "      <td>0</td>\n",
       "      <td>0</td>\n",
       "    </tr>\n",
       "    <tr>\n",
       "      <th>mcc_7993_count</th>\n",
       "      <td>0</td>\n",
       "      <td>0</td>\n",
       "      <td>0</td>\n",
       "      <td>0</td>\n",
       "      <td>0</td>\n",
       "    </tr>\n",
       "    <tr>\n",
       "      <th>mcc_7994_count</th>\n",
       "      <td>0</td>\n",
       "      <td>0</td>\n",
       "      <td>0</td>\n",
       "      <td>0</td>\n",
       "      <td>0</td>\n",
       "    </tr>\n",
       "    <tr>\n",
       "      <th>mcc_7995_count</th>\n",
       "      <td>0</td>\n",
       "      <td>0</td>\n",
       "      <td>0</td>\n",
       "      <td>0</td>\n",
       "      <td>0</td>\n",
       "    </tr>\n",
       "    <tr>\n",
       "      <th>mcc_7996_count</th>\n",
       "      <td>0</td>\n",
       "      <td>0</td>\n",
       "      <td>0</td>\n",
       "      <td>0</td>\n",
       "      <td>0</td>\n",
       "    </tr>\n",
       "    <tr>\n",
       "      <th>mcc_7997_count</th>\n",
       "      <td>0</td>\n",
       "      <td>0</td>\n",
       "      <td>0</td>\n",
       "      <td>0</td>\n",
       "      <td>0</td>\n",
       "    </tr>\n",
       "    <tr>\n",
       "      <th>mcc_7999_count</th>\n",
       "      <td>0</td>\n",
       "      <td>6</td>\n",
       "      <td>0</td>\n",
       "      <td>0</td>\n",
       "      <td>0</td>\n",
       "    </tr>\n",
       "    <tr>\n",
       "      <th>mcc_8011_count</th>\n",
       "      <td>0</td>\n",
       "      <td>0</td>\n",
       "      <td>0</td>\n",
       "      <td>0</td>\n",
       "      <td>0</td>\n",
       "    </tr>\n",
       "    <tr>\n",
       "      <th>mcc_8021_count</th>\n",
       "      <td>0</td>\n",
       "      <td>0</td>\n",
       "      <td>0</td>\n",
       "      <td>0</td>\n",
       "      <td>0</td>\n",
       "    </tr>\n",
       "    <tr>\n",
       "      <th>mcc_8043_count</th>\n",
       "      <td>0</td>\n",
       "      <td>1</td>\n",
       "      <td>0</td>\n",
       "      <td>0</td>\n",
       "      <td>0</td>\n",
       "    </tr>\n",
       "    <tr>\n",
       "      <th>mcc_8062_count</th>\n",
       "      <td>0</td>\n",
       "      <td>0</td>\n",
       "      <td>0</td>\n",
       "      <td>0</td>\n",
       "      <td>0</td>\n",
       "    </tr>\n",
       "    <tr>\n",
       "      <th>mcc_8071_count</th>\n",
       "      <td>0</td>\n",
       "      <td>0</td>\n",
       "      <td>0</td>\n",
       "      <td>0</td>\n",
       "      <td>0</td>\n",
       "    </tr>\n",
       "    <tr>\n",
       "      <th>mcc_8099_count</th>\n",
       "      <td>0</td>\n",
       "      <td>0</td>\n",
       "      <td>0</td>\n",
       "      <td>0</td>\n",
       "      <td>0</td>\n",
       "    </tr>\n",
       "    <tr>\n",
       "      <th>mcc_8220_count</th>\n",
       "      <td>0</td>\n",
       "      <td>0</td>\n",
       "      <td>0</td>\n",
       "      <td>0</td>\n",
       "      <td>0</td>\n",
       "    </tr>\n",
       "    <tr>\n",
       "      <th>mcc_8244_count</th>\n",
       "      <td>0</td>\n",
       "      <td>0</td>\n",
       "      <td>0</td>\n",
       "      <td>0</td>\n",
       "      <td>0</td>\n",
       "    </tr>\n",
       "    <tr>\n",
       "      <th>mcc_8299_count</th>\n",
       "      <td>0</td>\n",
       "      <td>0</td>\n",
       "      <td>0</td>\n",
       "      <td>0</td>\n",
       "      <td>0</td>\n",
       "    </tr>\n",
       "    <tr>\n",
       "      <th>mcc_8398_count</th>\n",
       "      <td>0</td>\n",
       "      <td>0</td>\n",
       "      <td>0</td>\n",
       "      <td>0</td>\n",
       "      <td>0</td>\n",
       "    </tr>\n",
       "    <tr>\n",
       "      <th>mcc_8641_count</th>\n",
       "      <td>0</td>\n",
       "      <td>0</td>\n",
       "      <td>0</td>\n",
       "      <td>0</td>\n",
       "      <td>0</td>\n",
       "    </tr>\n",
       "    <tr>\n",
       "      <th>mcc_8699_count</th>\n",
       "      <td>0</td>\n",
       "      <td>0</td>\n",
       "      <td>0</td>\n",
       "      <td>0</td>\n",
       "      <td>0</td>\n",
       "    </tr>\n",
       "    <tr>\n",
       "      <th>mcc_8999_count</th>\n",
       "      <td>0</td>\n",
       "      <td>1</td>\n",
       "      <td>2</td>\n",
       "      <td>0</td>\n",
       "      <td>0</td>\n",
       "    </tr>\n",
       "    <tr>\n",
       "      <th>mcc_9211_count</th>\n",
       "      <td>0</td>\n",
       "      <td>0</td>\n",
       "      <td>0</td>\n",
       "      <td>0</td>\n",
       "      <td>0</td>\n",
       "    </tr>\n",
       "    <tr>\n",
       "      <th>mcc_9222_count</th>\n",
       "      <td>0</td>\n",
       "      <td>0</td>\n",
       "      <td>0</td>\n",
       "      <td>0</td>\n",
       "      <td>0</td>\n",
       "    </tr>\n",
       "    <tr>\n",
       "      <th>mcc_9311_count</th>\n",
       "      <td>0</td>\n",
       "      <td>0</td>\n",
       "      <td>0</td>\n",
       "      <td>0</td>\n",
       "      <td>0</td>\n",
       "    </tr>\n",
       "    <tr>\n",
       "      <th>mcc_9399_count</th>\n",
       "      <td>0</td>\n",
       "      <td>2</td>\n",
       "      <td>0</td>\n",
       "      <td>0</td>\n",
       "      <td>0</td>\n",
       "    </tr>\n",
       "    <tr>\n",
       "      <th>mcc_9402_count</th>\n",
       "      <td>0</td>\n",
       "      <td>0</td>\n",
       "      <td>0</td>\n",
       "      <td>0</td>\n",
       "      <td>0</td>\n",
       "    </tr>\n",
       "    <tr>\n",
       "      <th>morning</th>\n",
       "      <td>0.262658</td>\n",
       "      <td>0.352697</td>\n",
       "      <td>0.296804</td>\n",
       "      <td>0.247423</td>\n",
       "      <td>0.636943</td>\n",
       "    </tr>\n",
       "    <tr>\n",
       "      <th>day</th>\n",
       "      <td>0.329114</td>\n",
       "      <td>0.413555</td>\n",
       "      <td>0.493151</td>\n",
       "      <td>0.494845</td>\n",
       "      <td>0.239915</td>\n",
       "    </tr>\n",
       "    <tr>\n",
       "      <th>evening</th>\n",
       "      <td>0.325949</td>\n",
       "      <td>0.0428769</td>\n",
       "      <td>0.196347</td>\n",
       "      <td>0.216495</td>\n",
       "      <td>0.00424628</td>\n",
       "    </tr>\n",
       "    <tr>\n",
       "      <th>night</th>\n",
       "      <td>0.0822785</td>\n",
       "      <td>0.190871</td>\n",
       "      <td>0.0136986</td>\n",
       "      <td>0.0412371</td>\n",
       "      <td>0.118896</td>\n",
       "    </tr>\n",
       "  </tbody>\n",
       "</table>\n",
       "<p>189 rows × 5 columns</p>\n",
       "</div>"
      ],
      "text/plain": [
       "                        0          1          2          3           4\n",
       "customer_id      75562265   10928546   69348468   84816985    61009479\n",
       "mcc_742_count           0          0          0          0           0\n",
       "mcc_1711_count          0          0          0          0           0\n",
       "mcc_1731_count          0          0          0          0           0\n",
       "mcc_1799_count          0          0          0          0           0\n",
       "mcc_2741_count          0          0          0          0           0\n",
       "mcc_3000_count          0          0          0          0           0\n",
       "mcc_3351_count          0          0          0          0           0\n",
       "mcc_3501_count          0          0          0          0           0\n",
       "mcc_4111_count          0          0          0          0           0\n",
       "mcc_4112_count          0          0          0          0           2\n",
       "mcc_4121_count          0          0          0          0           0\n",
       "mcc_4131_count          0          0          0          0           0\n",
       "mcc_4214_count          0          0          0          0           0\n",
       "mcc_4215_count          0          0          0          0           0\n",
       "mcc_4411_count          0          0          0          0           0\n",
       "mcc_4511_count          0          0          0          0           0\n",
       "mcc_4722_count          0          1          0          0           0\n",
       "mcc_4784_count          0          0          0          0           0\n",
       "mcc_4789_count          0          0          0          0           0\n",
       "mcc_4812_count          0          0          0          1           0\n",
       "mcc_4814_count        200         91         27         16          70\n",
       "mcc_4816_count          0          0          0          0           3\n",
       "mcc_4829_count          0         64          1          4          85\n",
       "mcc_4899_count          0          0          0          0           0\n",
       "mcc_4900_count          0          0          0          0           0\n",
       "mcc_5013_count          0          0          0          0           0\n",
       "mcc_5039_count          0          0          0          0           0\n",
       "mcc_5044_count          0          0          0          0           0\n",
       "mcc_5045_count          0          0          0          0           0\n",
       "...                   ...        ...        ...        ...         ...\n",
       "mcc_7933_count          0          0          0          0           0\n",
       "mcc_7991_count          0          0          0          0           0\n",
       "mcc_7993_count          0          0          0          0           0\n",
       "mcc_7994_count          0          0          0          0           0\n",
       "mcc_7995_count          0          0          0          0           0\n",
       "mcc_7996_count          0          0          0          0           0\n",
       "mcc_7997_count          0          0          0          0           0\n",
       "mcc_7999_count          0          6          0          0           0\n",
       "mcc_8011_count          0          0          0          0           0\n",
       "mcc_8021_count          0          0          0          0           0\n",
       "mcc_8043_count          0          1          0          0           0\n",
       "mcc_8062_count          0          0          0          0           0\n",
       "mcc_8071_count          0          0          0          0           0\n",
       "mcc_8099_count          0          0          0          0           0\n",
       "mcc_8220_count          0          0          0          0           0\n",
       "mcc_8244_count          0          0          0          0           0\n",
       "mcc_8299_count          0          0          0          0           0\n",
       "mcc_8398_count          0          0          0          0           0\n",
       "mcc_8641_count          0          0          0          0           0\n",
       "mcc_8699_count          0          0          0          0           0\n",
       "mcc_8999_count          0          1          2          0           0\n",
       "mcc_9211_count          0          0          0          0           0\n",
       "mcc_9222_count          0          0          0          0           0\n",
       "mcc_9311_count          0          0          0          0           0\n",
       "mcc_9399_count          0          2          0          0           0\n",
       "mcc_9402_count          0          0          0          0           0\n",
       "morning          0.262658   0.352697   0.296804   0.247423    0.636943\n",
       "day              0.329114   0.413555   0.493151   0.494845    0.239915\n",
       "evening          0.325949  0.0428769   0.196347   0.216495  0.00424628\n",
       "night           0.0822785   0.190871  0.0136986  0.0412371    0.118896\n",
       "\n",
       "[189 rows x 5 columns]"
      ]
     },
     "execution_count": 19,
     "metadata": {},
     "output_type": "execute_result"
    }
   ],
   "source": [
    "df_features.loc[:, idx_features].head().astype(object).T"
   ]
  },
  {
   "cell_type": "code",
   "execution_count": 20,
   "metadata": {},
   "outputs": [
    {
     "data": {
      "text/plain": [
       "(6849346, 11)"
      ]
     },
     "execution_count": 20,
     "metadata": {},
     "output_type": "execute_result"
    }
   ],
   "source": [
    "df_transactions.shape"
   ]
  },
  {
   "cell_type": "code",
   "execution_count": 21,
   "metadata": {},
   "outputs": [
    {
     "data": {
      "text/plain": [
       "(12000, 2)"
      ]
     },
     "execution_count": 21,
     "metadata": {},
     "output_type": "execute_result"
    }
   ],
   "source": [
    "df_gender.shape"
   ]
  },
  {
   "cell_type": "markdown",
   "metadata": {},
   "source": [
    "## Подбор гипер-параметров"
   ]
  },
  {
   "cell_type": "markdown",
   "metadata": {
    "collapsed": true
   },
   "source": [
    "### Pipeline"
   ]
  },
  {
   "cell_type": "markdown",
   "metadata": {},
   "source": [
    "Сделаем простой sklearn пайплайн, который делает следующее:\n",
    "* Нормирует признаки через StandartScaler\n",
    "* Запускает лог-регрессию"
   ]
  },
  {
   "cell_type": "code",
   "execution_count": 22,
   "metadata": {},
   "outputs": [],
   "source": [
    "from sklearn.pipeline import Pipeline, FeatureUnion\n",
    "from sklearn.preprocessing import OneHotEncoder, StandardScaler\n",
    "\n",
    "from sklearn.linear_model import LogisticRegression"
   ]
  },
  {
   "cell_type": "code",
   "execution_count": 23,
   "metadata": {},
   "outputs": [],
   "source": [
    "model = Pipeline([\n",
    "    ('scaler', StandardScaler()),\n",
    "    ('clf', LogisticRegression())\n",
    "])"
   ]
  },
  {
   "cell_type": "code",
   "execution_count": 24,
   "metadata": {},
   "outputs": [],
   "source": [
    "RND_SEED = 123"
   ]
  },
  {
   "cell_type": "markdown",
   "metadata": {},
   "source": [
    "### Подбор гиперпараметров\n",
    "\n",
    "До этого мы исключительно смотрели, как влияет на меру качества какой-то один параметр при фиксированных остальных. Пришло время перебирать все что можно!\n",
    "\n",
    "В базовом варианте, это делается либо через `Grid Search`, либо через `Random Search`. Какие ключевые отличия?\n",
    "* В `Grid Search` вы в явнов виде задаете возможные значения каждого гипер-параметра, который хотите варьировать. Соответственно, выполняется **полный** перебор всех возможных комбинаций\n",
    "* В `Random Search` допукается указание распределения параметров, например \"равномерно, на интервале от 0 до 100\" или \"нормальное распределение с таким-то цетром и такой-то дисперсией. Соответственно, так как это случайный перебор, то **вы** просто **задаете** количество случайных комбинаций, которые будут проверяться\n",
    "\n",
    "Может показаться, что делать случайный перебор опасно - там же все случайно. Но на практике именно он и искользуется в силу двух причин\n",
    "* Полный перебор большого количества комбинаций очень долгий\n",
    "* Мы можем просто пропустить значения гиперпараметра, которые сильно влияют на метрику качества (см рисунок снизу)"
   ]
  },
  {
   "cell_type": "markdown",
   "metadata": {},
   "source": [
    "<img src='img/gridsearch.jpeg'>"
   ]
  },
  {
   "cell_type": "markdown",
   "metadata": {},
   "source": [
    "Попробуем оба варианта"
   ]
  },
  {
   "cell_type": "markdown",
   "metadata": {},
   "source": [
    "#### Grid search"
   ]
  },
  {
   "cell_type": "code",
   "execution_count": 46,
   "metadata": {},
   "outputs": [],
   "source": [
    "from sklearn.model_selection import GridSearchCV, RandomizedSearchCV\n",
    "from sklearn.model_selection import StratifiedKFold\n"
   ]
  },
  {
   "cell_type": "code",
   "execution_count": 24,
   "metadata": {},
   "outputs": [
    {
     "name": "stdout",
     "output_type": "stream",
     "text": [
      "{'scaler__with_mean': [False, True], 'clf__penalty': ['l1', 'l2'], 'clf__random_state': [123], 'clf__C': array([1.00000000e-05, 7.74263683e-05, 5.99484250e-04, 4.64158883e-03,\n",
      "       3.59381366e-02, 2.78255940e-01, 2.15443469e+00, 1.66810054e+01,\n",
      "       1.29154967e+02, 1.00000000e+03])}\n"
     ]
    }
   ],
   "source": [
    "# Задаем значения параметров, которые хотим проверить\n",
    "\n",
    "# в данном случае \"__\" разленяет название гиперпараметра от этапа, где этот гиперпараметр используется\n",
    "# если у нас будет не пайплайн, а просто один классификатор, то разделитель указывать не нужно\n",
    "param_grid = {\n",
    "    'scaler__with_mean': [False, True],\n",
    "    'clf__penalty': ['l1', 'l2'],\n",
    "    'clf__random_state': [RND_SEED],\n",
    "    'clf__C': np.logspace(-5, 3, 10)\n",
    "}\n",
    "\n",
    "print(param_grid)\n",
    "\n",
    "# Задаем схему кросс-валидации\n",
    "cv = StratifiedKFold(n_splits=5, random_state=RND_SEED, shuffle=True)"
   ]
  },
  {
   "cell_type": "code",
   "execution_count": 25,
   "metadata": {
    "scrolled": true
   },
   "outputs": [
    {
     "name": "stdout",
     "output_type": "stream",
     "text": [
      "Fitting 5 folds for each of 40 candidates, totalling 200 fits\n"
     ]
    },
    {
     "name": "stderr",
     "output_type": "stream",
     "text": [
      "[Parallel(n_jobs=-1)]: Using backend LokyBackend with 4 concurrent workers.\n",
      "[Parallel(n_jobs=-1)]: Done  33 tasks      | elapsed:    6.4s\n",
      "[Parallel(n_jobs=-1)]: Done 154 tasks      | elapsed:   40.4s\n",
      "[Parallel(n_jobs=-1)]: Done 200 out of 200 | elapsed:   59.5s finished\n",
      "/home/mtomilov/.local/lib/python3.6/site-packages/sklearn/linear_model/logistic.py:432: FutureWarning: Default solver will be changed to 'lbfgs' in 0.22. Specify a solver to silence this warning.\n",
      "  FutureWarning)\n"
     ]
    },
    {
     "data": {
      "text/plain": [
       "GridSearchCV(cv=StratifiedKFold(n_splits=5, random_state=123, shuffle=True),\n",
       "       error_score='raise-deprecating',\n",
       "       estimator=Pipeline(memory=None,\n",
       "     steps=[('scaler', StandardScaler(copy=True, with_mean=True, with_std=True)), ('clf', LogisticRegression(C=1.0, class_weight=None, dual=False, fit_intercept=True,\n",
       "          intercept_scaling=1, max_iter=100, multi_class='warn',\n",
       "          n_jobs=None, penalty='l2', random_state=None, solver='warn',\n",
       "          tol=0.0001, verbose=0, warm_start=False))]),\n",
       "       fit_params=None, iid='warn', n_jobs=-1,\n",
       "       param_grid={'scaler__with_mean': [False, True], 'clf__penalty': ['l1', 'l2'], 'clf__random_state': [123], 'clf__C': array([1.00000e-05, 7.74264e-05, 5.99484e-04, 4.64159e-03, 3.59381e-02,\n",
       "       2.78256e-01, 2.15443e+00, 1.66810e+01, 1.29155e+02, 1.00000e+03])},\n",
       "       pre_dispatch='2*n_jobs', refit=True, return_train_score='warn',\n",
       "       scoring='roc_auc', verbose=2)"
      ]
     },
     "execution_count": 25,
     "metadata": {},
     "output_type": "execute_result"
    }
   ],
   "source": [
    "grid_searcher = GridSearchCV(model, param_grid, \n",
    "                             scoring='roc_auc', \n",
    "                             n_jobs=-1, cv=cv, \n",
    "                             verbose=2)\n",
    "\n",
    "grid_searcher.fit(X, y)"
   ]
  },
  {
   "cell_type": "markdown",
   "metadata": {},
   "source": [
    "На выходе в grid_searcher можно посмотреть, какая комбинация оказалась наилучшей, сколько занял рачет и напрямую достать лучшую модель."
   ]
  },
  {
   "cell_type": "code",
   "execution_count": 26,
   "metadata": {},
   "outputs": [
    {
     "data": {
      "text/plain": [
       "{'clf__C': 0.03593813663804626,\n",
       " 'clf__penalty': 'l1',\n",
       " 'clf__random_state': 123,\n",
       " 'scaler__with_mean': True}"
      ]
     },
     "execution_count": 26,
     "metadata": {},
     "output_type": "execute_result"
    }
   ],
   "source": [
    "grid_searcher.best_params_"
   ]
  },
  {
   "cell_type": "code",
   "execution_count": 27,
   "metadata": {},
   "outputs": [
    {
     "data": {
      "text/plain": [
       "0.8333700479549012"
      ]
     },
     "execution_count": 27,
     "metadata": {},
     "output_type": "execute_result"
    }
   ],
   "source": [
    "grid_searcher.best_score_"
   ]
  },
  {
   "cell_type": "code",
   "execution_count": 28,
   "metadata": {},
   "outputs": [
    {
     "name": "stderr",
     "output_type": "stream",
     "text": [
      "/home/mtomilov/.local/lib/python3.6/site-packages/sklearn/utils/deprecation.py:125: FutureWarning: You are accessing a training score ('split0_train_score'), which will not be available by default any more in 0.21. If you need training scores, please set return_train_score=True\n",
      "  warnings.warn(*warn_args, **warn_kwargs)\n",
      "/home/mtomilov/.local/lib/python3.6/site-packages/sklearn/utils/deprecation.py:125: FutureWarning: You are accessing a training score ('split1_train_score'), which will not be available by default any more in 0.21. If you need training scores, please set return_train_score=True\n",
      "  warnings.warn(*warn_args, **warn_kwargs)\n",
      "/home/mtomilov/.local/lib/python3.6/site-packages/sklearn/utils/deprecation.py:125: FutureWarning: You are accessing a training score ('split2_train_score'), which will not be available by default any more in 0.21. If you need training scores, please set return_train_score=True\n",
      "  warnings.warn(*warn_args, **warn_kwargs)\n",
      "/home/mtomilov/.local/lib/python3.6/site-packages/sklearn/utils/deprecation.py:125: FutureWarning: You are accessing a training score ('split3_train_score'), which will not be available by default any more in 0.21. If you need training scores, please set return_train_score=True\n",
      "  warnings.warn(*warn_args, **warn_kwargs)\n",
      "/home/mtomilov/.local/lib/python3.6/site-packages/sklearn/utils/deprecation.py:125: FutureWarning: You are accessing a training score ('split4_train_score'), which will not be available by default any more in 0.21. If you need training scores, please set return_train_score=True\n",
      "  warnings.warn(*warn_args, **warn_kwargs)\n",
      "/home/mtomilov/.local/lib/python3.6/site-packages/sklearn/utils/deprecation.py:125: FutureWarning: You are accessing a training score ('mean_train_score'), which will not be available by default any more in 0.21. If you need training scores, please set return_train_score=True\n",
      "  warnings.warn(*warn_args, **warn_kwargs)\n",
      "/home/mtomilov/.local/lib/python3.6/site-packages/sklearn/utils/deprecation.py:125: FutureWarning: You are accessing a training score ('std_train_score'), which will not be available by default any more in 0.21. If you need training scores, please set return_train_score=True\n",
      "  warnings.warn(*warn_args, **warn_kwargs)\n"
     ]
    }
   ],
   "source": [
    "results = pd.DataFrame(grid_searcher.cv_results_)"
   ]
  },
  {
   "cell_type": "code",
   "execution_count": 29,
   "metadata": {},
   "outputs": [
    {
     "data": {
      "text/html": [
       "<div>\n",
       "<style scoped>\n",
       "    .dataframe tbody tr th:only-of-type {\n",
       "        vertical-align: middle;\n",
       "    }\n",
       "\n",
       "    .dataframe tbody tr th {\n",
       "        vertical-align: top;\n",
       "    }\n",
       "\n",
       "    .dataframe thead th {\n",
       "        text-align: right;\n",
       "    }\n",
       "</style>\n",
       "<table border=\"1\" class=\"dataframe\">\n",
       "  <thead>\n",
       "    <tr style=\"text-align: right;\">\n",
       "      <th></th>\n",
       "      <th>mean_fit_time</th>\n",
       "      <th>std_fit_time</th>\n",
       "      <th>mean_score_time</th>\n",
       "      <th>std_score_time</th>\n",
       "      <th>param_clf__C</th>\n",
       "      <th>param_clf__penalty</th>\n",
       "      <th>param_clf__random_state</th>\n",
       "      <th>param_scaler__with_mean</th>\n",
       "      <th>params</th>\n",
       "      <th>split0_test_score</th>\n",
       "      <th>...</th>\n",
       "      <th>mean_test_score</th>\n",
       "      <th>std_test_score</th>\n",
       "      <th>rank_test_score</th>\n",
       "      <th>split0_train_score</th>\n",
       "      <th>split1_train_score</th>\n",
       "      <th>split2_train_score</th>\n",
       "      <th>split3_train_score</th>\n",
       "      <th>split4_train_score</th>\n",
       "      <th>mean_train_score</th>\n",
       "      <th>std_train_score</th>\n",
       "    </tr>\n",
       "  </thead>\n",
       "  <tbody>\n",
       "    <tr>\n",
       "      <th>0</th>\n",
       "      <td>0.313027</td>\n",
       "      <td>0.095361</td>\n",
       "      <td>0.022309</td>\n",
       "      <td>0.005949</td>\n",
       "      <td>1e-05</td>\n",
       "      <td>l1</td>\n",
       "      <td>123</td>\n",
       "      <td>False</td>\n",
       "      <td>{'clf__C': 1e-05, 'clf__penalty': 'l1', 'clf__...</td>\n",
       "      <td>0.500000</td>\n",
       "      <td>...</td>\n",
       "      <td>0.500000</td>\n",
       "      <td>0.000000</td>\n",
       "      <td>36</td>\n",
       "      <td>0.500000</td>\n",
       "      <td>0.500000</td>\n",
       "      <td>0.500000</td>\n",
       "      <td>0.500000</td>\n",
       "      <td>0.500000</td>\n",
       "      <td>0.500000</td>\n",
       "      <td>0.000000</td>\n",
       "    </tr>\n",
       "    <tr>\n",
       "      <th>1</th>\n",
       "      <td>0.414656</td>\n",
       "      <td>0.063339</td>\n",
       "      <td>0.021839</td>\n",
       "      <td>0.006726</td>\n",
       "      <td>1e-05</td>\n",
       "      <td>l1</td>\n",
       "      <td>123</td>\n",
       "      <td>True</td>\n",
       "      <td>{'clf__C': 1e-05, 'clf__penalty': 'l1', 'clf__...</td>\n",
       "      <td>0.500000</td>\n",
       "      <td>...</td>\n",
       "      <td>0.500000</td>\n",
       "      <td>0.000000</td>\n",
       "      <td>36</td>\n",
       "      <td>0.500000</td>\n",
       "      <td>0.500000</td>\n",
       "      <td>0.500000</td>\n",
       "      <td>0.500000</td>\n",
       "      <td>0.500000</td>\n",
       "      <td>0.500000</td>\n",
       "      <td>0.000000</td>\n",
       "    </tr>\n",
       "    <tr>\n",
       "      <th>2</th>\n",
       "      <td>0.371250</td>\n",
       "      <td>0.075832</td>\n",
       "      <td>0.015753</td>\n",
       "      <td>0.005885</td>\n",
       "      <td>1e-05</td>\n",
       "      <td>l2</td>\n",
       "      <td>123</td>\n",
       "      <td>False</td>\n",
       "      <td>{'clf__C': 1e-05, 'clf__penalty': 'l2', 'clf__...</td>\n",
       "      <td>0.785334</td>\n",
       "      <td>...</td>\n",
       "      <td>0.793321</td>\n",
       "      <td>0.006108</td>\n",
       "      <td>34</td>\n",
       "      <td>0.797821</td>\n",
       "      <td>0.800335</td>\n",
       "      <td>0.800359</td>\n",
       "      <td>0.796988</td>\n",
       "      <td>0.800062</td>\n",
       "      <td>0.799113</td>\n",
       "      <td>0.001423</td>\n",
       "    </tr>\n",
       "    <tr>\n",
       "      <th>3</th>\n",
       "      <td>0.504301</td>\n",
       "      <td>0.056356</td>\n",
       "      <td>0.027335</td>\n",
       "      <td>0.005874</td>\n",
       "      <td>1e-05</td>\n",
       "      <td>l2</td>\n",
       "      <td>123</td>\n",
       "      <td>True</td>\n",
       "      <td>{'clf__C': 1e-05, 'clf__penalty': 'l2', 'clf__...</td>\n",
       "      <td>0.786911</td>\n",
       "      <td>...</td>\n",
       "      <td>0.797828</td>\n",
       "      <td>0.010103</td>\n",
       "      <td>33</td>\n",
       "      <td>0.799328</td>\n",
       "      <td>0.810066</td>\n",
       "      <td>0.808778</td>\n",
       "      <td>0.799038</td>\n",
       "      <td>0.803717</td>\n",
       "      <td>0.804185</td>\n",
       "      <td>0.004604</td>\n",
       "    </tr>\n",
       "    <tr>\n",
       "      <th>4</th>\n",
       "      <td>0.310752</td>\n",
       "      <td>0.059924</td>\n",
       "      <td>0.019374</td>\n",
       "      <td>0.008245</td>\n",
       "      <td>7.74264e-05</td>\n",
       "      <td>l1</td>\n",
       "      <td>123</td>\n",
       "      <td>False</td>\n",
       "      <td>{'clf__C': 7.742636826811278e-05, 'clf__penalt...</td>\n",
       "      <td>0.500000</td>\n",
       "      <td>...</td>\n",
       "      <td>0.500000</td>\n",
       "      <td>0.000000</td>\n",
       "      <td>36</td>\n",
       "      <td>0.500000</td>\n",
       "      <td>0.500000</td>\n",
       "      <td>0.500000</td>\n",
       "      <td>0.500000</td>\n",
       "      <td>0.500000</td>\n",
       "      <td>0.500000</td>\n",
       "      <td>0.000000</td>\n",
       "    </tr>\n",
       "  </tbody>\n",
       "</table>\n",
       "<p>5 rows × 24 columns</p>\n",
       "</div>"
      ],
      "text/plain": [
       "   mean_fit_time  std_fit_time  mean_score_time  std_score_time param_clf__C  \\\n",
       "0       0.313027      0.095361         0.022309        0.005949        1e-05   \n",
       "1       0.414656      0.063339         0.021839        0.006726        1e-05   \n",
       "2       0.371250      0.075832         0.015753        0.005885        1e-05   \n",
       "3       0.504301      0.056356         0.027335        0.005874        1e-05   \n",
       "4       0.310752      0.059924         0.019374        0.008245  7.74264e-05   \n",
       "\n",
       "  param_clf__penalty param_clf__random_state param_scaler__with_mean  \\\n",
       "0                 l1                     123                   False   \n",
       "1                 l1                     123                    True   \n",
       "2                 l2                     123                   False   \n",
       "3                 l2                     123                    True   \n",
       "4                 l1                     123                   False   \n",
       "\n",
       "                                              params  split0_test_score  \\\n",
       "0  {'clf__C': 1e-05, 'clf__penalty': 'l1', 'clf__...           0.500000   \n",
       "1  {'clf__C': 1e-05, 'clf__penalty': 'l1', 'clf__...           0.500000   \n",
       "2  {'clf__C': 1e-05, 'clf__penalty': 'l2', 'clf__...           0.785334   \n",
       "3  {'clf__C': 1e-05, 'clf__penalty': 'l2', 'clf__...           0.786911   \n",
       "4  {'clf__C': 7.742636826811278e-05, 'clf__penalt...           0.500000   \n",
       "\n",
       "        ...         mean_test_score  std_test_score  rank_test_score  \\\n",
       "0       ...                0.500000        0.000000               36   \n",
       "1       ...                0.500000        0.000000               36   \n",
       "2       ...                0.793321        0.006108               34   \n",
       "3       ...                0.797828        0.010103               33   \n",
       "4       ...                0.500000        0.000000               36   \n",
       "\n",
       "   split0_train_score  split1_train_score  split2_train_score  \\\n",
       "0            0.500000            0.500000            0.500000   \n",
       "1            0.500000            0.500000            0.500000   \n",
       "2            0.797821            0.800335            0.800359   \n",
       "3            0.799328            0.810066            0.808778   \n",
       "4            0.500000            0.500000            0.500000   \n",
       "\n",
       "   split3_train_score  split4_train_score  mean_train_score  std_train_score  \n",
       "0            0.500000            0.500000          0.500000         0.000000  \n",
       "1            0.500000            0.500000          0.500000         0.000000  \n",
       "2            0.796988            0.800062          0.799113         0.001423  \n",
       "3            0.799038            0.803717          0.804185         0.004604  \n",
       "4            0.500000            0.500000          0.500000         0.000000  \n",
       "\n",
       "[5 rows x 24 columns]"
      ]
     },
     "execution_count": 29,
     "metadata": {},
     "output_type": "execute_result"
    }
   ],
   "source": [
    "results.head()"
   ]
  },
  {
   "cell_type": "code",
   "execution_count": 30,
   "metadata": {},
   "outputs": [],
   "source": [
    "best_model = grid_searcher.best_estimator_"
   ]
  },
  {
   "cell_type": "markdown",
   "metadata": {},
   "source": [
    "#### Random Search"
   ]
  },
  {
   "cell_type": "code",
   "execution_count": 26,
   "metadata": {},
   "outputs": [],
   "source": [
    "from scipy.stats import randint as sp_randint\n",
    "from scipy.stats import lognorm as sp_lognorm"
   ]
  },
  {
   "cell_type": "code",
   "execution_count": 27,
   "metadata": {},
   "outputs": [
    {
     "data": {
      "text/plain": [
       "0.00039876179212142707"
      ]
     },
     "execution_count": 27,
     "metadata": {},
     "output_type": "execute_result"
    }
   ],
   "source": [
    "sp_lognorm(4).rvs()"
   ]
  },
  {
   "cell_type": "code",
   "execution_count": 50,
   "metadata": {},
   "outputs": [
    {
     "name": "stdout",
     "output_type": "stream",
     "text": [
      "{'scaler__with_mean': [False, True], 'clf__penalty': ['l1', 'l2'], 'clf__random_state': [123], 'clf__C': <scipy.stats._distn_infrastructure.rv_frozen object at 0x7f6d8e1d4668>}\n"
     ]
    }
   ],
   "source": [
    "# Задаем значения параметров, которые хотим проверить\n",
    "# Теперь с распределениями\n",
    "param_grid = {\n",
    "    'scaler__with_mean': [False, True],\n",
    "    'clf__penalty': ['l1', 'l2'],\n",
    "    'clf__random_state': [RND_SEED],\n",
    "    'clf__C': sp_lognorm(4)\n",
    "}\n",
    "\n",
    "print(param_grid)"
   ]
  },
  {
   "cell_type": "code",
   "execution_count": 51,
   "metadata": {
    "scrolled": true
   },
   "outputs": [
    {
     "name": "stdout",
     "output_type": "stream",
     "text": [
      "Fitting 5 folds for each of 20 candidates, totalling 100 fits\n"
     ]
    },
    {
     "name": "stderr",
     "output_type": "stream",
     "text": [
      "[Parallel(n_jobs=-1)]: Using backend LokyBackend with 4 concurrent workers.\n",
      "[Parallel(n_jobs=-1)]: Done  33 tasks      | elapsed:   11.5s\n",
      "[Parallel(n_jobs=-1)]: Done 100 out of 100 | elapsed:   33.6s finished\n",
      "/home/mtomilov/.local/lib/python3.6/site-packages/sklearn/linear_model/logistic.py:432: FutureWarning: Default solver will be changed to 'lbfgs' in 0.22. Specify a solver to silence this warning.\n",
      "  FutureWarning)\n"
     ]
    },
    {
     "data": {
      "text/plain": [
       "RandomizedSearchCV(cv=StratifiedKFold(n_splits=5, random_state=123, shuffle=True),\n",
       "          error_score='raise-deprecating',\n",
       "          estimator=Pipeline(memory=None,\n",
       "     steps=[('scaler', StandardScaler(copy=True, with_mean=True, with_std=True)), ('clf', LogisticRegression(C=1.0, class_weight=None, dual=False, fit_intercept=True,\n",
       "          intercept_scaling=1, max_iter=100, multi_class='warn',\n",
       "          n_jobs=None, penalty='l2', random_state=None, solver='warn',\n",
       "          tol=0.0001, verbose=0, warm_start=False))]),\n",
       "          fit_params=None, iid='warn', n_iter=20, n_jobs=-1,\n",
       "          param_distributions={'scaler__with_mean': [False, True], 'clf__penalty': ['l1', 'l2'], 'clf__random_state': [123], 'clf__C': <scipy.stats._distn_infrastructure.rv_frozen object at 0x7f6d8e1d4668>},\n",
       "          pre_dispatch='2*n_jobs', random_state=123, refit=True,\n",
       "          return_train_score='warn', scoring='roc_auc', verbose=2)"
      ]
     },
     "execution_count": 51,
     "metadata": {},
     "output_type": "execute_result"
    }
   ],
   "source": [
    "# Рассмотрим 20 случайных комбинаций\n",
    "random_searcher = RandomizedSearchCV(model, param_grid, n_iter=20, \n",
    "                                     random_state=RND_SEED,\n",
    "                                     scoring='roc_auc', \n",
    "                                     n_jobs=-1, cv=cv, \n",
    "                                     verbose=2)\n",
    "\n",
    "random_searcher.fit(X, y)"
   ]
  },
  {
   "cell_type": "markdown",
   "metadata": {},
   "source": [
    "Аналогичный выхлоп"
   ]
  },
  {
   "cell_type": "code",
   "execution_count": 52,
   "metadata": {
    "scrolled": true
   },
   "outputs": [
    {
     "data": {
      "text/plain": [
       "{'clf__C': 0.066168907176401,\n",
       " 'clf__penalty': 'l1',\n",
       " 'clf__random_state': 123,\n",
       " 'scaler__with_mean': False}"
      ]
     },
     "execution_count": 52,
     "metadata": {},
     "output_type": "execute_result"
    }
   ],
   "source": [
    "random_searcher.best_params_"
   ]
  },
  {
   "cell_type": "code",
   "execution_count": 53,
   "metadata": {},
   "outputs": [
    {
     "data": {
      "text/plain": [
       "0.8331573859251894"
      ]
     },
     "execution_count": 53,
     "metadata": {},
     "output_type": "execute_result"
    }
   ],
   "source": [
    "random_searcher.best_score_"
   ]
  },
  {
   "cell_type": "code",
   "execution_count": 37,
   "metadata": {},
   "outputs": [
    {
     "name": "stderr",
     "output_type": "stream",
     "text": [
      "/home/mtomilov/.local/lib/python3.6/site-packages/sklearn/utils/deprecation.py:125: FutureWarning: You are accessing a training score ('split0_train_score'), which will not be available by default any more in 0.21. If you need training scores, please set return_train_score=True\n",
      "  warnings.warn(*warn_args, **warn_kwargs)\n",
      "/home/mtomilov/.local/lib/python3.6/site-packages/sklearn/utils/deprecation.py:125: FutureWarning: You are accessing a training score ('split1_train_score'), which will not be available by default any more in 0.21. If you need training scores, please set return_train_score=True\n",
      "  warnings.warn(*warn_args, **warn_kwargs)\n",
      "/home/mtomilov/.local/lib/python3.6/site-packages/sklearn/utils/deprecation.py:125: FutureWarning: You are accessing a training score ('split2_train_score'), which will not be available by default any more in 0.21. If you need training scores, please set return_train_score=True\n",
      "  warnings.warn(*warn_args, **warn_kwargs)\n",
      "/home/mtomilov/.local/lib/python3.6/site-packages/sklearn/utils/deprecation.py:125: FutureWarning: You are accessing a training score ('split3_train_score'), which will not be available by default any more in 0.21. If you need training scores, please set return_train_score=True\n",
      "  warnings.warn(*warn_args, **warn_kwargs)\n",
      "/home/mtomilov/.local/lib/python3.6/site-packages/sklearn/utils/deprecation.py:125: FutureWarning: You are accessing a training score ('split4_train_score'), which will not be available by default any more in 0.21. If you need training scores, please set return_train_score=True\n",
      "  warnings.warn(*warn_args, **warn_kwargs)\n",
      "/home/mtomilov/.local/lib/python3.6/site-packages/sklearn/utils/deprecation.py:125: FutureWarning: You are accessing a training score ('mean_train_score'), which will not be available by default any more in 0.21. If you need training scores, please set return_train_score=True\n",
      "  warnings.warn(*warn_args, **warn_kwargs)\n",
      "/home/mtomilov/.local/lib/python3.6/site-packages/sklearn/utils/deprecation.py:125: FutureWarning: You are accessing a training score ('std_train_score'), which will not be available by default any more in 0.21. If you need training scores, please set return_train_score=True\n",
      "  warnings.warn(*warn_args, **warn_kwargs)\n"
     ]
    }
   ],
   "source": [
    "results = pd.DataFrame(random_searcher.cv_results_)"
   ]
  },
  {
   "cell_type": "code",
   "execution_count": 38,
   "metadata": {},
   "outputs": [
    {
     "data": {
      "text/html": [
       "<div>\n",
       "<style scoped>\n",
       "    .dataframe tbody tr th:only-of-type {\n",
       "        vertical-align: middle;\n",
       "    }\n",
       "\n",
       "    .dataframe tbody tr th {\n",
       "        vertical-align: top;\n",
       "    }\n",
       "\n",
       "    .dataframe thead th {\n",
       "        text-align: right;\n",
       "    }\n",
       "</style>\n",
       "<table border=\"1\" class=\"dataframe\">\n",
       "  <thead>\n",
       "    <tr style=\"text-align: right;\">\n",
       "      <th></th>\n",
       "      <th>mean_fit_time</th>\n",
       "      <th>std_fit_time</th>\n",
       "      <th>mean_score_time</th>\n",
       "      <th>std_score_time</th>\n",
       "      <th>param_clf__C</th>\n",
       "      <th>param_clf__penalty</th>\n",
       "      <th>param_clf__random_state</th>\n",
       "      <th>param_scaler__with_mean</th>\n",
       "      <th>params</th>\n",
       "      <th>split0_test_score</th>\n",
       "      <th>...</th>\n",
       "      <th>mean_test_score</th>\n",
       "      <th>std_test_score</th>\n",
       "      <th>rank_test_score</th>\n",
       "      <th>split0_train_score</th>\n",
       "      <th>split1_train_score</th>\n",
       "      <th>split2_train_score</th>\n",
       "      <th>split3_train_score</th>\n",
       "      <th>split4_train_score</th>\n",
       "      <th>mean_train_score</th>\n",
       "      <th>std_train_score</th>\n",
       "    </tr>\n",
       "  </thead>\n",
       "  <tbody>\n",
       "    <tr>\n",
       "      <th>0</th>\n",
       "      <td>0.460225</td>\n",
       "      <td>0.093537</td>\n",
       "      <td>0.015110</td>\n",
       "      <td>0.005532</td>\n",
       "      <td>0.0130037</td>\n",
       "      <td>l1</td>\n",
       "      <td>123</td>\n",
       "      <td>False</td>\n",
       "      <td>{'clf__C': 0.013003686130638284, 'clf__penalty...</td>\n",
       "      <td>0.827471</td>\n",
       "      <td>...</td>\n",
       "      <td>0.829825</td>\n",
       "      <td>0.004286</td>\n",
       "      <td>10</td>\n",
       "      <td>0.835122</td>\n",
       "      <td>0.834700</td>\n",
       "      <td>0.835108</td>\n",
       "      <td>0.835922</td>\n",
       "      <td>0.833295</td>\n",
       "      <td>0.834829</td>\n",
       "      <td>0.000864</td>\n",
       "    </tr>\n",
       "    <tr>\n",
       "      <th>1</th>\n",
       "      <td>0.989093</td>\n",
       "      <td>0.197581</td>\n",
       "      <td>0.022960</td>\n",
       "      <td>0.015579</td>\n",
       "      <td>54.0215</td>\n",
       "      <td>l1</td>\n",
       "      <td>123</td>\n",
       "      <td>True</td>\n",
       "      <td>{'clf__C': 54.02148221946703, 'clf__penalty': ...</td>\n",
       "      <td>0.829482</td>\n",
       "      <td>...</td>\n",
       "      <td>0.829800</td>\n",
       "      <td>0.003311</td>\n",
       "      <td>14</td>\n",
       "      <td>0.849479</td>\n",
       "      <td>0.850480</td>\n",
       "      <td>0.849283</td>\n",
       "      <td>0.850176</td>\n",
       "      <td>0.848428</td>\n",
       "      <td>0.849569</td>\n",
       "      <td>0.000720</td>\n",
       "    </tr>\n",
       "    <tr>\n",
       "      <th>2</th>\n",
       "      <td>3.869598</td>\n",
       "      <td>0.320447</td>\n",
       "      <td>0.013454</td>\n",
       "      <td>0.008751</td>\n",
       "      <td>0.0988254</td>\n",
       "      <td>l1</td>\n",
       "      <td>123</td>\n",
       "      <td>True</td>\n",
       "      <td>{'clf__C': 0.09882536189042468, 'clf__penalty'...</td>\n",
       "      <td>0.831300</td>\n",
       "      <td>...</td>\n",
       "      <td>0.832553</td>\n",
       "      <td>0.003361</td>\n",
       "      <td>3</td>\n",
       "      <td>0.848458</td>\n",
       "      <td>0.849134</td>\n",
       "      <td>0.847940</td>\n",
       "      <td>0.849445</td>\n",
       "      <td>0.847167</td>\n",
       "      <td>0.848429</td>\n",
       "      <td>0.000820</td>\n",
       "    </tr>\n",
       "    <tr>\n",
       "      <th>3</th>\n",
       "      <td>0.791562</td>\n",
       "      <td>0.133431</td>\n",
       "      <td>0.016952</td>\n",
       "      <td>0.006634</td>\n",
       "      <td>739.331</td>\n",
       "      <td>l1</td>\n",
       "      <td>123</td>\n",
       "      <td>True</td>\n",
       "      <td>{'clf__C': 739.3313143249965, 'clf__penalty': ...</td>\n",
       "      <td>0.829471</td>\n",
       "      <td>...</td>\n",
       "      <td>0.829790</td>\n",
       "      <td>0.003312</td>\n",
       "      <td>15</td>\n",
       "      <td>0.849478</td>\n",
       "      <td>0.850480</td>\n",
       "      <td>0.849282</td>\n",
       "      <td>0.850174</td>\n",
       "      <td>0.848427</td>\n",
       "      <td>0.849568</td>\n",
       "      <td>0.000720</td>\n",
       "    </tr>\n",
       "    <tr>\n",
       "      <th>4</th>\n",
       "      <td>0.265757</td>\n",
       "      <td>0.063557</td>\n",
       "      <td>0.022832</td>\n",
       "      <td>0.007922</td>\n",
       "      <td>6.08732e-05</td>\n",
       "      <td>l1</td>\n",
       "      <td>123</td>\n",
       "      <td>False</td>\n",
       "      <td>{'clf__C': 6.0873234832561394e-05, 'clf__penal...</td>\n",
       "      <td>0.500000</td>\n",
       "      <td>...</td>\n",
       "      <td>0.500000</td>\n",
       "      <td>0.000000</td>\n",
       "      <td>19</td>\n",
       "      <td>0.500000</td>\n",
       "      <td>0.500000</td>\n",
       "      <td>0.500000</td>\n",
       "      <td>0.500000</td>\n",
       "      <td>0.500000</td>\n",
       "      <td>0.500000</td>\n",
       "      <td>0.000000</td>\n",
       "    </tr>\n",
       "  </tbody>\n",
       "</table>\n",
       "<p>5 rows × 24 columns</p>\n",
       "</div>"
      ],
      "text/plain": [
       "   mean_fit_time  std_fit_time  mean_score_time  std_score_time param_clf__C  \\\n",
       "0       0.460225      0.093537         0.015110        0.005532    0.0130037   \n",
       "1       0.989093      0.197581         0.022960        0.015579      54.0215   \n",
       "2       3.869598      0.320447         0.013454        0.008751    0.0988254   \n",
       "3       0.791562      0.133431         0.016952        0.006634      739.331   \n",
       "4       0.265757      0.063557         0.022832        0.007922  6.08732e-05   \n",
       "\n",
       "  param_clf__penalty param_clf__random_state param_scaler__with_mean  \\\n",
       "0                 l1                     123                   False   \n",
       "1                 l1                     123                    True   \n",
       "2                 l1                     123                    True   \n",
       "3                 l1                     123                    True   \n",
       "4                 l1                     123                   False   \n",
       "\n",
       "                                              params  split0_test_score  \\\n",
       "0  {'clf__C': 0.013003686130638284, 'clf__penalty...           0.827471   \n",
       "1  {'clf__C': 54.02148221946703, 'clf__penalty': ...           0.829482   \n",
       "2  {'clf__C': 0.09882536189042468, 'clf__penalty'...           0.831300   \n",
       "3  {'clf__C': 739.3313143249965, 'clf__penalty': ...           0.829471   \n",
       "4  {'clf__C': 6.0873234832561394e-05, 'clf__penal...           0.500000   \n",
       "\n",
       "        ...         mean_test_score  std_test_score  rank_test_score  \\\n",
       "0       ...                0.829825        0.004286               10   \n",
       "1       ...                0.829800        0.003311               14   \n",
       "2       ...                0.832553        0.003361                3   \n",
       "3       ...                0.829790        0.003312               15   \n",
       "4       ...                0.500000        0.000000               19   \n",
       "\n",
       "   split0_train_score  split1_train_score  split2_train_score  \\\n",
       "0            0.835122            0.834700            0.835108   \n",
       "1            0.849479            0.850480            0.849283   \n",
       "2            0.848458            0.849134            0.847940   \n",
       "3            0.849478            0.850480            0.849282   \n",
       "4            0.500000            0.500000            0.500000   \n",
       "\n",
       "   split3_train_score  split4_train_score  mean_train_score  std_train_score  \n",
       "0            0.835922            0.833295          0.834829         0.000864  \n",
       "1            0.850176            0.848428          0.849569         0.000720  \n",
       "2            0.849445            0.847167          0.848429         0.000820  \n",
       "3            0.850174            0.848427          0.849568         0.000720  \n",
       "4            0.500000            0.500000          0.500000         0.000000  \n",
       "\n",
       "[5 rows x 24 columns]"
      ]
     },
     "execution_count": 38,
     "metadata": {},
     "output_type": "execute_result"
    }
   ],
   "source": [
    "results.head()"
   ]
  },
  {
   "cell_type": "code",
   "execution_count": 39,
   "metadata": {},
   "outputs": [],
   "source": [
    "best_model = random_searcher.best_estimator_"
   ]
  },
  {
   "cell_type": "markdown",
   "metadata": {},
   "source": [
    "### HyperOpt"
   ]
  },
  {
   "cell_type": "markdown",
   "metadata": {},
   "source": [
    "Есть еще другой вариант - \"умный\" перебор параметров. И вот тут нам помогает библиотека `hyperopt`.\n",
    "\n",
    "Если невдаваться в детали, то `hyperopt` определяет следующего набора-кандидата с помощью некоторого алгоритма, который балансирует исследование еще не изведанных областей значений гиперпараметров и направления, вдоль которых наблюдались улучшения целеой метрики.\n",
    "\n",
    "То есть мы задаем некоторую функцию, и ставим себе цель **минимизировать** (такова договоренность в `hyperopt`) ее значение исходя из параметров, которые она принимает.\n",
    "\n",
    "Например, возьмем функцию $f(x) = \\sin(x)/x$ и будем искать ее минимум при условии, что $x$ будет равномерно распределен на интервале $[-7.5, 7.5]$"
   ]
  },
  {
   "cell_type": "code",
   "execution_count": 40,
   "metadata": {},
   "outputs": [],
   "source": [
    "# sudo pip install networkx==1.11"
   ]
  },
  {
   "cell_type": "code",
   "execution_count": 28,
   "metadata": {},
   "outputs": [],
   "source": [
    "from hyperopt import fmin, tpe, hp, Trials, STATUS_OK, rand"
   ]
  },
  {
   "cell_type": "code",
   "execution_count": 29,
   "metadata": {},
   "outputs": [
    {
     "name": "stdout",
     "output_type": "stream",
     "text": [
      "{'x': 0.013549922283146939}\n"
     ]
    }
   ],
   "source": [
    "trials = Trials()\n",
    "best = fmin(\n",
    "    fn=lambda x: -np.sin(x)/x,\n",
    "    space=hp.uniform('x', -7.5, 7.5),\n",
    "    algo=tpe.suggest,\n",
    "    max_evals=100,\n",
    "    trials=trials)\n",
    "\n",
    "print(best)"
   ]
  },
  {
   "cell_type": "code",
   "execution_count": 30,
   "metadata": {},
   "outputs": [
    {
     "data": {
      "text/plain": [
       "[<matplotlib.lines.Line2D at 0x7f6d8dd4aa20>]"
      ]
     },
     "execution_count": 30,
     "metadata": {},
     "output_type": "execute_result"
    },
    {
     "data": {
      "image/png": "[encoded data removed]",
      "text/plain": [
       "<Figure size 432x288 with 1 Axes>"
      ]
     },
     "metadata": {
      "needs_background": "light"
     },
     "output_type": "display_data"
    }
   ],
   "source": [
    "x = np.linspace(-10,10,50)\n",
    "func = lambda x: -np.sin(x)/x\n",
    "y = func(x)\n",
    "plt.plot(x,y)\n",
    "\n",
    "y_best = func(best['x'])\n",
    "plt.plot(best['x'], y_best, marker='s')"
   ]
  },
  {
   "cell_type": "markdown",
   "metadata": {},
   "source": [
    "Нашли)"
   ]
  },
  {
   "cell_type": "markdown",
   "metadata": {},
   "source": [
    "Возвращаясь к нашим баранам, функция вданном случае будет возвращать метрику качества модели (пайплайна) на кроссвалидации. С помощью `hyperopt` мы будем искать минимум этой функции при заданных диаполознах значений гипер параметров.\n",
    "\n",
    "Но самым важным плюсом, как по мне, является гибкость - в функцию, которую мы хотим минимизировать можно написать все что угодно. Например, сейчас я добавлю вариативность в пайплайне по типу шкалирования между - StandartScaler или RobustScaler."
   ]
  },
  {
   "cell_type": "code",
   "execution_count": 31,
   "metadata": {},
   "outputs": [],
   "source": [
    "from sklearn.preprocessing import RobustScaler\n",
    "from sklearn.model_selection import cross_val_score"
   ]
  },
  {
   "cell_type": "code",
   "execution_count": 32,
   "metadata": {},
   "outputs": [],
   "source": [
    "X = df_features.loc[:, idx_features].values\n",
    "y = df_features.loc[:, ~idx_features].values.flatten()"
   ]
  },
  {
   "cell_type": "code",
   "execution_count": 142,
   "metadata": {},
   "outputs": [],
   "source": [
    "def run_trials_template(X, y, params, evals=100):\n",
    "\n",
    "    def hyperopt_cv(X, y, params):\n",
    "        \n",
    "        X_ = X.copy()\n",
    "        \n",
    "        # Отделяем параметры лог регрессии в отдельный словарь\n",
    "        lm_params = {}\n",
    "        for k, v in params.items():\n",
    "            if k.startswith('glob'):\n",
    "                continue                \n",
    "            elif k.startswith('lm'):\n",
    "                lm_params[k.split('_', 1)[1]] = v\n",
    "        \n",
    "        # Задаем шкалирование\n",
    "        if params['scaler_type'] == 'standart':\n",
    "            scaler = StandardScaler(with_mean=params['scaler_centering'])\n",
    "        else:\n",
    "            assert params['scaler_type'] == 'robust'\n",
    "            scaler = RobustScaler(with_centering=params['scaler_centering'])\n",
    "        \n",
    "        # Создаем лог рег с нужными параметрами\n",
    "        clf = LogisticRegression(**lm_params)\n",
    "        \n",
    "        # Итоговый пайплайн\n",
    "        model = Pipeline([\n",
    "            ('scaler', scaler),\n",
    "            ('clf', clf)\n",
    "        ])\n",
    "\n",
    "        # Схема кросс-валидации\n",
    "        n_splits = 5\n",
    "        cv = StratifiedKFold(n_splits=n_splits, shuffle=True, \n",
    "                             random_state=RND_SEED)\n",
    "        scores = cross_val_score(model, X_, y,\n",
    "                                 scoring='roc_auc', \n",
    "                                 cv=cv, \n",
    "                                 n_jobs=-1,\n",
    "                                 verbose=True)\n",
    "\n",
    "        pbar.update()\n",
    "        # Возвращаем среднее значение метрики и отклонение (на всякий случай)\n",
    "        return scores.mean(), scores.std()\n",
    "\n",
    "    def f(params):\n",
    "        acc, std = hyperopt_cv(X, y, params)\n",
    "        return {'loss': -acc, 'qscore': -acc, 'qscore_std': std, 'status': STATUS_OK}\n",
    "\n",
    "    from tqdm import tqdm\n",
    "    pbar = tqdm(total=evals, desc=\"hyperopt\")\n",
    "    trials = Trials()\n",
    "    best = fmin(f, \n",
    "                params, \n",
    "                algo=tpe.suggest, \n",
    "                max_evals=evals, \n",
    "                trials=trials, \n",
    "                verbose=1)\n",
    "    pbar.close()\n",
    "\n",
    "    return trials"
   ]
  },
  {
   "cell_type": "code",
   "execution_count": 34,
   "metadata": {},
   "outputs": [],
   "source": [
    "# Задаем пространство поиска\n",
    "space4_lm = {\n",
    "    'lm_penalty': hp.choice('penalty', ['l1', 'l2']),\n",
    "    'lm_C': hp.loguniform('C', -5, 3),\n",
    "    'lm_class_weight': hp.choice('class_weight', [None, 'balanced']),\n",
    "    'lm_random_state': RND_SEED,\n",
    "    'scaler_type': hp.choice('scaler_type', ['standart', 'robust']),\n",
    "    'scaler_centering': hp.choice('scaler_centering', [False, True])\n",
    "}"
   ]
  },
  {
   "cell_type": "code",
   "execution_count": 35,
   "metadata": {},
   "outputs": [],
   "source": [
    "# Запускаем поиск\n",
    "trials = run_trials_template(X, y, space4_lm, evals=40)"
   ]
  },
  {
   "cell_type": "code",
   "execution_count": 36,
   "metadata": {},
   "outputs": [
    {
     "data": {
      "text/plain": [
       "<hyperopt.base.Trials at 0x7f6d8e059a90>"
      ]
     },
     "execution_count": 36,
     "metadata": {},
     "output_type": "execute_result"
    }
   ],
   "source": [
    "trials"
   ]
  },
  {
   "cell_type": "code",
   "execution_count": 37,
   "metadata": {},
   "outputs": [],
   "source": [
    "import json\n",
    "\n",
    "def trials_df(trials):\n",
    "    '''\n",
    "    Функция форматирует результаты hyperopt в dataframe\n",
    "    '''\n",
    "    tr_dict = []\n",
    "    for t in trials:\n",
    "        trial = dict()\n",
    "        for k, v in t['misc']['vals'].items():\n",
    "            trial[k] = v[0]\n",
    "\n",
    "        trial['qscore'] = -t['result']['qscore']\n",
    "        trial['qscore_std'] = -t['result']['qscore_std']\n",
    "        tr_dict.append(trial)\n",
    "\n",
    "    df_res = pd.DataFrame.from_dict(tr_dict)\n",
    "    df_res = df_res.sort_values('qscore', ascending=False)\n",
    "    \n",
    "    return df_res"
   ]
  },
  {
   "cell_type": "markdown",
   "metadata": {},
   "source": [
    "Достаем результаты.\n",
    "\n",
    "Стоит оговорится, что в некоторых столбцах указаны не фактические значение гиперпараметров, а их позиция в соответствуюем поле в `space4_lm`"
   ]
  },
  {
   "cell_type": "code",
   "execution_count": 38,
   "metadata": {},
   "outputs": [],
   "source": [
    "df_trials = trials_df(trials)"
   ]
  },
  {
   "cell_type": "markdown",
   "metadata": {},
   "source": [
    "Здесь `qscore` - метрика качесва, а `scaler_type = 1` означает, что был выбран `scaler_type = robust`"
   ]
  },
  {
   "cell_type": "code",
   "execution_count": 39,
   "metadata": {},
   "outputs": [
    {
     "data": {
      "text/html": [
       "<div>\n",
       "<style scoped>\n",
       "    .dataframe tbody tr th:only-of-type {\n",
       "        vertical-align: middle;\n",
       "    }\n",
       "\n",
       "    .dataframe tbody tr th {\n",
       "        vertical-align: top;\n",
       "    }\n",
       "\n",
       "    .dataframe thead th {\n",
       "        text-align: right;\n",
       "    }\n",
       "</style>\n",
       "<table border=\"1\" class=\"dataframe\">\n",
       "  <thead>\n",
       "    <tr style=\"text-align: right;\">\n",
       "      <th></th>\n",
       "      <th>C</th>\n",
       "      <th>class_weight</th>\n",
       "      <th>penalty</th>\n",
       "      <th>qscore</th>\n",
       "      <th>qscore_std</th>\n",
       "      <th>scaler_centering</th>\n",
       "      <th>scaler_type</th>\n",
       "    </tr>\n",
       "  </thead>\n",
       "  <tbody>\n",
       "    <tr>\n",
       "      <th>36</th>\n",
       "      <td>0.034552</td>\n",
       "      <td>0</td>\n",
       "      <td>0</td>\n",
       "      <td>0.836554</td>\n",
       "      <td>-0.003193</td>\n",
       "      <td>1</td>\n",
       "      <td>1</td>\n",
       "    </tr>\n",
       "    <tr>\n",
       "      <th>27</th>\n",
       "      <td>0.037747</td>\n",
       "      <td>0</td>\n",
       "      <td>0</td>\n",
       "      <td>0.836502</td>\n",
       "      <td>-0.003118</td>\n",
       "      <td>1</td>\n",
       "      <td>1</td>\n",
       "    </tr>\n",
       "    <tr>\n",
       "      <th>22</th>\n",
       "      <td>0.043492</td>\n",
       "      <td>0</td>\n",
       "      <td>0</td>\n",
       "      <td>0.836424</td>\n",
       "      <td>-0.003008</td>\n",
       "      <td>1</td>\n",
       "      <td>1</td>\n",
       "    </tr>\n",
       "    <tr>\n",
       "      <th>23</th>\n",
       "      <td>0.047169</td>\n",
       "      <td>1</td>\n",
       "      <td>0</td>\n",
       "      <td>0.836297</td>\n",
       "      <td>-0.003117</td>\n",
       "      <td>1</td>\n",
       "      <td>1</td>\n",
       "    </tr>\n",
       "    <tr>\n",
       "      <th>20</th>\n",
       "      <td>0.053199</td>\n",
       "      <td>1</td>\n",
       "      <td>0</td>\n",
       "      <td>0.836184</td>\n",
       "      <td>-0.003018</td>\n",
       "      <td>1</td>\n",
       "      <td>1</td>\n",
       "    </tr>\n",
       "  </tbody>\n",
       "</table>\n",
       "</div>"
      ],
      "text/plain": [
       "           C  class_weight  penalty    qscore  qscore_std  scaler_centering  \\\n",
       "36  0.034552             0        0  0.836554   -0.003193                 1   \n",
       "27  0.037747             0        0  0.836502   -0.003118                 1   \n",
       "22  0.043492             0        0  0.836424   -0.003008                 1   \n",
       "23  0.047169             1        0  0.836297   -0.003117                 1   \n",
       "20  0.053199             1        0  0.836184   -0.003018                 1   \n",
       "\n",
       "    scaler_type  \n",
       "36            1  \n",
       "27            1  \n",
       "22            1  \n",
       "23            1  \n",
       "20            1  "
      ]
     },
     "execution_count": 39,
     "metadata": {},
     "output_type": "execute_result"
    }
   ],
   "source": [
    "df_trials.head()"
   ]
  },
  {
   "cell_type": "markdown",
   "metadata": {},
   "source": [
    "## Ваш черед"
   ]
  },
  {
   "cell_type": "markdown",
   "metadata": {},
   "source": [
    "### Новые признаки"
   ]
  },
  {
   "cell_type": "markdown",
   "metadata": {},
   "source": [
    "Задание творческое - придумайте по новому признаку (группе признаков)\n",
    "* На основе mcc (tr_type)\n",
    "* На основе временного фактора\n",
    "* На основе текстов из описания mcc\n",
    "\n",
    "Реалиуйте их в функции, аналогичной `gen_features`."
   ]
  },
  {
   "cell_type": "code",
   "execution_count": 130,
   "metadata": {},
   "outputs": [],
   "source": [
    "def gen_features2(df_gender, df_transactions):\n",
    "    \n",
    "    df_tr_type_counts = \\\n",
    "        df_transactions.pivot_table(index=['customer_id'], columns='tr_type', values='amount', \n",
    "                             aggfunc=np.size, fill_value=0)\n",
    "    df_tr_type_counts = df_tr_type_counts.rename_axis(lambda x: 'tr_type_{}_count'.format(x), axis=1)\n",
    "    \n",
    "    df_day_counts = \\\n",
    "        df_transactions.pivot_table(index=['customer_id'], columns='weekday', values='amount', \n",
    "                         aggfunc=np.size, fill_value=0)\n",
    "    df_day_counts = df_day_counts.rename_axis(lambda x: 'day_{}_count'.format(x), axis=1)\n",
    "    total_counts = df_day_counts.sum(axis=1)\n",
    "    df_day_counts = df_day_counts.div(total_counts, axis=0)\n",
    "    \n",
    "    df_day_sums = \\\n",
    "        df_transactions.pivot_table(index=['customer_id'], columns='weekday', values='amount',\n",
    "                                    aggfunc=np.sum, fill_value=0)\n",
    "    df_day_sums = df_day_sums.rename_axis(lambda x: 'day_{}_sum'.format(x), axis=1)\n",
    "    total_sums = df_day_sums.sum(axis=1)\n",
    "    df_day_sums = df_day_sums.div(total_sums[total_sums != 0], axis=0)\n",
    "    df_day_sums[total_sums == 0] = 0\n",
    "    \n",
    "    df_features = (\n",
    "        df_gender\n",
    "        .join(df_tr_type_counts, on='customer_id', how='left')\n",
    "        .join(df_day_counts, on='customer_id', how='left')\n",
    "        .join(df_day_sums, on='customer_id', how='left')\n",
    "    )\n",
    "    \n",
    "    return df_features"
   ]
  },
  {
   "cell_type": "code",
   "execution_count": 131,
   "metadata": {},
   "outputs": [
    {
     "name": "stderr",
     "output_type": "stream",
     "text": [
      "/home/mtomilov/.local/lib/python3.6/site-packages/ipykernel_launcher.py:6: FutureWarning: Using 'rename_axis' to alter labels is deprecated. Use '.rename' instead\n",
      "  \n",
      "/home/mtomilov/.local/lib/python3.6/site-packages/ipykernel_launcher.py:11: FutureWarning: Using 'rename_axis' to alter labels is deprecated. Use '.rename' instead\n",
      "  # This is added back by InteractiveShellApp.init_path()\n",
      "/home/mtomilov/.local/lib/python3.6/site-packages/ipykernel_launcher.py:18: FutureWarning: Using 'rename_axis' to alter labels is deprecated. Use '.rename' instead\n"
     ]
    }
   ],
   "source": [
    "df_features2 = df_gender.pipe(gen_features2, df_transactions)"
   ]
  },
  {
   "cell_type": "code",
   "execution_count": 132,
   "metadata": {},
   "outputs": [],
   "source": [
    "label = 'gender'\n",
    "idx_features2 = df_features2.columns != label"
   ]
  },
  {
   "cell_type": "code",
   "execution_count": 133,
   "metadata": {},
   "outputs": [],
   "source": [
    "X2 = df_features2.loc[:, idx_features2].values\n",
    "y2 = df_features2.loc[:, ~idx_features2].values.flatten()"
   ]
  },
  {
   "cell_type": "code",
   "execution_count": 134,
   "metadata": {},
   "outputs": [
    {
     "data": {
      "text/html": [
       "<div>\n",
       "<style scoped>\n",
       "    .dataframe tbody tr th:only-of-type {\n",
       "        vertical-align: middle;\n",
       "    }\n",
       "\n",
       "    .dataframe tbody tr th {\n",
       "        vertical-align: top;\n",
       "    }\n",
       "\n",
       "    .dataframe thead th {\n",
       "        text-align: right;\n",
       "    }\n",
       "</style>\n",
       "<table border=\"1\" class=\"dataframe\">\n",
       "  <thead>\n",
       "    <tr style=\"text-align: right;\">\n",
       "      <th></th>\n",
       "      <th>customer_id</th>\n",
       "      <th>gender</th>\n",
       "      <th>tr_type_1000_count</th>\n",
       "      <th>tr_type_1010_count</th>\n",
       "      <th>tr_type_1030_count</th>\n",
       "      <th>tr_type_1100_count</th>\n",
       "      <th>tr_type_1110_count</th>\n",
       "      <th>tr_type_1200_count</th>\n",
       "      <th>tr_type_1210_count</th>\n",
       "      <th>tr_type_1310_count</th>\n",
       "      <th>...</th>\n",
       "      <th>day_5_count</th>\n",
       "      <th>day_6_count</th>\n",
       "      <th>day_7_count</th>\n",
       "      <th>day_1_sum</th>\n",
       "      <th>day_2_sum</th>\n",
       "      <th>day_3_sum</th>\n",
       "      <th>day_4_sum</th>\n",
       "      <th>day_5_sum</th>\n",
       "      <th>day_6_sum</th>\n",
       "      <th>day_7_sum</th>\n",
       "    </tr>\n",
       "  </thead>\n",
       "  <tbody>\n",
       "    <tr>\n",
       "      <th>0</th>\n",
       "      <td>75562265</td>\n",
       "      <td>0</td>\n",
       "      <td>0</td>\n",
       "      <td>3</td>\n",
       "      <td>200</td>\n",
       "      <td>0</td>\n",
       "      <td>0</td>\n",
       "      <td>0</td>\n",
       "      <td>0</td>\n",
       "      <td>0</td>\n",
       "      <td>...</td>\n",
       "      <td>0.189873</td>\n",
       "      <td>0.110759</td>\n",
       "      <td>0.123418</td>\n",
       "      <td>-0.165494</td>\n",
       "      <td>0.007808</td>\n",
       "      <td>-0.612004</td>\n",
       "      <td>1.602104</td>\n",
       "      <td>-1.109482</td>\n",
       "      <td>0.543673</td>\n",
       "      <td>0.733395</td>\n",
       "    </tr>\n",
       "    <tr>\n",
       "      <th>1</th>\n",
       "      <td>10928546</td>\n",
       "      <td>1</td>\n",
       "      <td>0</td>\n",
       "      <td>70</td>\n",
       "      <td>91</td>\n",
       "      <td>2</td>\n",
       "      <td>58</td>\n",
       "      <td>3</td>\n",
       "      <td>71</td>\n",
       "      <td>0</td>\n",
       "      <td>...</td>\n",
       "      <td>0.156293</td>\n",
       "      <td>0.102351</td>\n",
       "      <td>0.107884</td>\n",
       "      <td>0.141354</td>\n",
       "      <td>0.228883</td>\n",
       "      <td>0.141999</td>\n",
       "      <td>0.192952</td>\n",
       "      <td>0.165753</td>\n",
       "      <td>0.078354</td>\n",
       "      <td>0.050706</td>\n",
       "    </tr>\n",
       "    <tr>\n",
       "      <th>2</th>\n",
       "      <td>69348468</td>\n",
       "      <td>1</td>\n",
       "      <td>0</td>\n",
       "      <td>138</td>\n",
       "      <td>23</td>\n",
       "      <td>9</td>\n",
       "      <td>165</td>\n",
       "      <td>0</td>\n",
       "      <td>0</td>\n",
       "      <td>0</td>\n",
       "      <td>...</td>\n",
       "      <td>0.173516</td>\n",
       "      <td>0.130137</td>\n",
       "      <td>0.127854</td>\n",
       "      <td>0.166136</td>\n",
       "      <td>0.133438</td>\n",
       "      <td>0.133915</td>\n",
       "      <td>0.123151</td>\n",
       "      <td>0.165499</td>\n",
       "      <td>0.169714</td>\n",
       "      <td>0.108148</td>\n",
       "    </tr>\n",
       "    <tr>\n",
       "      <th>3</th>\n",
       "      <td>84816985</td>\n",
       "      <td>1</td>\n",
       "      <td>0</td>\n",
       "      <td>33</td>\n",
       "      <td>16</td>\n",
       "      <td>0</td>\n",
       "      <td>3</td>\n",
       "      <td>0</td>\n",
       "      <td>0</td>\n",
       "      <td>0</td>\n",
       "      <td>...</td>\n",
       "      <td>0.061856</td>\n",
       "      <td>0.144330</td>\n",
       "      <td>0.103093</td>\n",
       "      <td>0.596474</td>\n",
       "      <td>0.270529</td>\n",
       "      <td>-0.523426</td>\n",
       "      <td>0.090008</td>\n",
       "      <td>0.402351</td>\n",
       "      <td>-0.442821</td>\n",
       "      <td>0.606885</td>\n",
       "    </tr>\n",
       "    <tr>\n",
       "      <th>4</th>\n",
       "      <td>61009479</td>\n",
       "      <td>0</td>\n",
       "      <td>0</td>\n",
       "      <td>63</td>\n",
       "      <td>42</td>\n",
       "      <td>36</td>\n",
       "      <td>19</td>\n",
       "      <td>0</td>\n",
       "      <td>0</td>\n",
       "      <td>0</td>\n",
       "      <td>...</td>\n",
       "      <td>0.159236</td>\n",
       "      <td>0.123142</td>\n",
       "      <td>0.106157</td>\n",
       "      <td>-0.037868</td>\n",
       "      <td>1.853015</td>\n",
       "      <td>-0.461622</td>\n",
       "      <td>-0.977837</td>\n",
       "      <td>-2.631178</td>\n",
       "      <td>2.419199</td>\n",
       "      <td>0.836291</td>\n",
       "    </tr>\n",
       "  </tbody>\n",
       "</table>\n",
       "<p>5 rows × 93 columns</p>\n",
       "</div>"
      ],
      "text/plain": [
       "   customer_id  gender  tr_type_1000_count  tr_type_1010_count  \\\n",
       "0     75562265       0                   0                   3   \n",
       "1     10928546       1                   0                  70   \n",
       "2     69348468       1                   0                 138   \n",
       "3     84816985       1                   0                  33   \n",
       "4     61009479       0                   0                  63   \n",
       "\n",
       "   tr_type_1030_count  tr_type_1100_count  tr_type_1110_count  \\\n",
       "0                 200                   0                   0   \n",
       "1                  91                   2                  58   \n",
       "2                  23                   9                 165   \n",
       "3                  16                   0                   3   \n",
       "4                  42                  36                  19   \n",
       "\n",
       "   tr_type_1200_count  tr_type_1210_count  tr_type_1310_count    ...      \\\n",
       "0                   0                   0                   0    ...       \n",
       "1                   3                  71                   0    ...       \n",
       "2                   0                   0                   0    ...       \n",
       "3                   0                   0                   0    ...       \n",
       "4                   0                   0                   0    ...       \n",
       "\n",
       "   day_5_count  day_6_count  day_7_count  day_1_sum  day_2_sum  day_3_sum  \\\n",
       "0     0.189873     0.110759     0.123418  -0.165494   0.007808  -0.612004   \n",
       "1     0.156293     0.102351     0.107884   0.141354   0.228883   0.141999   \n",
       "2     0.173516     0.130137     0.127854   0.166136   0.133438   0.133915   \n",
       "3     0.061856     0.144330     0.103093   0.596474   0.270529  -0.523426   \n",
       "4     0.159236     0.123142     0.106157  -0.037868   1.853015  -0.461622   \n",
       "\n",
       "   day_4_sum  day_5_sum  day_6_sum  day_7_sum  \n",
       "0   1.602104  -1.109482   0.543673   0.733395  \n",
       "1   0.192952   0.165753   0.078354   0.050706  \n",
       "2   0.123151   0.165499   0.169714   0.108148  \n",
       "3   0.090008   0.402351  -0.442821   0.606885  \n",
       "4  -0.977837  -2.631178   2.419199   0.836291  \n",
       "\n",
       "[5 rows x 93 columns]"
      ]
     },
     "execution_count": 134,
     "metadata": {},
     "output_type": "execute_result"
    }
   ],
   "source": [
    "df_features2.head()"
   ]
  },
  {
   "cell_type": "code",
   "execution_count": 118,
   "metadata": {},
   "outputs": [
    {
     "data": {
      "text/plain": [
       "Int64Index([], dtype='int64')"
      ]
     },
     "execution_count": 118,
     "metadata": {},
     "output_type": "execute_result"
    }
   ],
   "source": [
    "df_features2.index[df_features2['day_5_sum'] == np.nan]"
   ]
  },
  {
   "cell_type": "code",
   "execution_count": 102,
   "metadata": {},
   "outputs": [
    {
     "data": {
      "text/html": [
       "<div>\n",
       "<style scoped>\n",
       "    .dataframe tbody tr th:only-of-type {\n",
       "        vertical-align: middle;\n",
       "    }\n",
       "\n",
       "    .dataframe tbody tr th {\n",
       "        vertical-align: top;\n",
       "    }\n",
       "\n",
       "    .dataframe thead th {\n",
       "        text-align: right;\n",
       "    }\n",
       "</style>\n",
       "<table border=\"1\" class=\"dataframe\">\n",
       "  <thead>\n",
       "    <tr style=\"text-align: right;\">\n",
       "      <th></th>\n",
       "      <th>customer_id</th>\n",
       "      <th>mcc_code</th>\n",
       "      <th>tr_type</th>\n",
       "      <th>amount</th>\n",
       "      <th>term_id</th>\n",
       "      <th>day</th>\n",
       "      <th>dt</th>\n",
       "      <th>weekday</th>\n",
       "      <th>datetime</th>\n",
       "      <th>date</th>\n",
       "      <th>hour</th>\n",
       "    </tr>\n",
       "  </thead>\n",
       "  <tbody>\n",
       "  </tbody>\n",
       "</table>\n",
       "</div>"
      ],
      "text/plain": [
       "Empty DataFrame\n",
       "Columns: [customer_id, mcc_code, tr_type, amount, term_id, day, dt, weekday, datetime, date, hour]\n",
       "Index: []"
      ]
     },
     "execution_count": 102,
     "metadata": {},
     "output_type": "execute_result"
    }
   ],
   "source": [
    "df_transactions[df_transactions['customer_id'] == 7025]"
   ]
  },
  {
   "cell_type": "code",
   "execution_count": 125,
   "metadata": {},
   "outputs": [
    {
     "data": {
      "text/plain": [
       "nan"
      ]
     },
     "execution_count": 125,
     "metadata": {},
     "output_type": "execute_result"
    }
   ],
   "source": [
    "df_features2.loc[7025, 'day_6_sum']"
   ]
  },
  {
   "cell_type": "code",
   "execution_count": 127,
   "metadata": {},
   "outputs": [],
   "source": [
    "for index in df_features2.index:\n",
    "    for col in df_features2.columns:\n",
    "        if df_features2.loc[index, col] == np.nan:\n",
    "            print(index, col)\n",
    "            break"
   ]
  },
  {
   "cell_type": "code",
   "execution_count": 135,
   "metadata": {},
   "outputs": [
    {
     "name": "stdout",
     "output_type": "stream",
     "text": [
      "{'scaler__with_mean': [False, True], 'clf__penalty': ['l1', 'l2'], 'clf__random_state': [123], 'clf__C': <scipy.stats._distn_infrastructure.rv_frozen object at 0x7f6d8ea0d048>}\n"
     ]
    }
   ],
   "source": [
    "param_grid = {\n",
    "    'scaler__with_mean': [False, True],\n",
    "    'clf__penalty': ['l1', 'l2'],\n",
    "    'clf__random_state': [RND_SEED],\n",
    "    'clf__C': sp_lognorm(4)\n",
    "}\n",
    "\n",
    "print(param_grid)"
   ]
  },
  {
   "cell_type": "code",
   "execution_count": 136,
   "metadata": {
    "scrolled": true
   },
   "outputs": [
    {
     "name": "stdout",
     "output_type": "stream",
     "text": [
      "Fitting 5 folds for each of 20 candidates, totalling 100 fits\n"
     ]
    },
    {
     "name": "stderr",
     "output_type": "stream",
     "text": [
      "[Parallel(n_jobs=-1)]: Using backend LokyBackend with 4 concurrent workers.\n",
      "[Parallel(n_jobs=-1)]: Done  33 tasks      | elapsed:  1.8min\n",
      "[Parallel(n_jobs=-1)]: Done 100 out of 100 | elapsed:  4.1min finished\n",
      "/home/mtomilov/.local/lib/python3.6/site-packages/sklearn/linear_model/logistic.py:432: FutureWarning: Default solver will be changed to 'lbfgs' in 0.22. Specify a solver to silence this warning.\n",
      "  FutureWarning)\n"
     ]
    },
    {
     "data": {
      "text/plain": [
       "RandomizedSearchCV(cv=StratifiedKFold(n_splits=5, random_state=123, shuffle=True),\n",
       "          error_score='raise-deprecating',\n",
       "          estimator=Pipeline(memory=None,\n",
       "     steps=[('scaler', StandardScaler(copy=True, with_mean=True, with_std=True)), ('clf', LogisticRegression(C=1.0, class_weight=None, dual=False, fit_intercept=True,\n",
       "          intercept_scaling=1, max_iter=100, multi_class='warn',\n",
       "          n_jobs=None, penalty='l2', random_state=None, solver='warn',\n",
       "          tol=0.0001, verbose=0, warm_start=False))]),\n",
       "          fit_params=None, iid='warn', n_iter=20, n_jobs=-1,\n",
       "          param_distributions={'scaler__with_mean': [False, True], 'clf__penalty': ['l1', 'l2'], 'clf__random_state': [123], 'clf__C': <scipy.stats._distn_infrastructure.rv_frozen object at 0x7f6d8ea0d048>},\n",
       "          pre_dispatch='2*n_jobs', random_state=123, refit=True,\n",
       "          return_train_score='warn', scoring='roc_auc', verbose=2)"
      ]
     },
     "execution_count": 136,
     "metadata": {},
     "output_type": "execute_result"
    }
   ],
   "source": [
    "cv = StratifiedKFold(n_splits=5, random_state=RND_SEED, shuffle=True)\n",
    "# Рассмотрим 20 случайных комбинаций\n",
    "random_searcher2 = RandomizedSearchCV(model, param_grid, n_iter=20, \n",
    "                                     random_state=RND_SEED,\n",
    "                                     scoring='roc_auc', \n",
    "                                     n_jobs=-1, cv=cv, \n",
    "                                     verbose=2)\n",
    "\n",
    "random_searcher2.fit(X2, y2)"
   ]
  },
  {
   "cell_type": "code",
   "execution_count": 137,
   "metadata": {},
   "outputs": [
    {
     "data": {
      "text/plain": [
       "{'clf__C': 0.17597644951448602,\n",
       " 'clf__penalty': 'l1',\n",
       " 'clf__random_state': 123,\n",
       " 'scaler__with_mean': True}"
      ]
     },
     "execution_count": 137,
     "metadata": {},
     "output_type": "execute_result"
    }
   ],
   "source": [
    "random_searcher2.best_params_"
   ]
  },
  {
   "cell_type": "code",
   "execution_count": 138,
   "metadata": {},
   "outputs": [
    {
     "data": {
      "text/plain": [
       "0.625134934050834"
      ]
     },
     "execution_count": 138,
     "metadata": {},
     "output_type": "execute_result"
    }
   ],
   "source": [
    "random_searcher2.best_score_"
   ]
  },
  {
   "cell_type": "markdown",
   "metadata": {},
   "source": [
    "Скор не очень, но я хотел чисто на своих фичах запилить."
   ]
  },
  {
   "cell_type": "markdown",
   "metadata": {},
   "source": [
    "## Поиск гиперпараметров"
   ]
  },
  {
   "cell_type": "markdown",
   "metadata": {},
   "source": [
    "Реализуйте функцию для hyperopt по перебору гипер параметров вашего пайплайна\n",
    "\n",
    "На всякий случай почитайте еще про [`FeatureUnion`](http://scikit-learn.org/stable/modules/generated/sklearn.pipeline.FeatureUnion.html) и [пример](http://scikit-learn.org/stable/auto_examples/hetero_feature_union.html#sphx-glr-auto-examples-hetero-feature-union-py)  \n",
    "[fixed example](https://scikit-learn.org/0.19/auto_examples/hetero_feature_union.html#sphx-glr-auto-examples-hetero-feature-union-py)"
   ]
  },
  {
   "cell_type": "code",
   "execution_count": null,
   "metadata": {
    "collapsed": true
   },
   "outputs": [],
   "source": [
    "# А это трансформер, который выбирает подможнество столбцов из матрицы X\n",
    "# Который нужен для того, чтобы делать какие-то действия только для подмноества столбцов, а потом объединять результаты\n",
    "# Через FeatureUnion\n",
    "\n",
    "from sklearn.base import BaseEstimator, TransformerMixin\n",
    "\n",
    "class ColumnSelector(BaseEstimator, TransformerMixin):\n",
    "    def __init__(self, col_idx):\n",
    "        self.col_idx = col_idx\n",
    "    \n",
    "    def fit(self, X, y=None):\n",
    "        return self\n",
    "\n",
    "    def transform(self, X):\n",
    "        return X[:, self.col_idx]"
   ]
  },
  {
   "cell_type": "code",
   "execution_count": 143,
   "metadata": {},
   "outputs": [
    {
     "name": "stderr",
     "output_type": "stream",
     "text": [
      "hyperopt:   0%|          | 0/40 [00:00<?, ?it/s][Parallel(n_jobs=-1)]: Using backend LokyBackend with 4 concurrent workers.\n",
      "[Parallel(n_jobs=-1)]: Done   5 out of   5 | elapsed:    3.0s finished\n",
      "hyperopt:   2%|▎         | 1/40 [00:02<01:56,  2.99s/it][Parallel(n_jobs=-1)]: Using backend LokyBackend with 4 concurrent workers.\n",
      "[Parallel(n_jobs=-1)]: Done   5 out of   5 | elapsed:    6.7s finished\n",
      "hyperopt:   5%|▌         | 2/40 [00:09<02:36,  4.12s/it][Parallel(n_jobs=-1)]: Using backend LokyBackend with 4 concurrent workers.\n",
      "[Parallel(n_jobs=-1)]: Done   5 out of   5 | elapsed:   26.0s finished\n",
      "hyperopt:   8%|▊         | 3/40 [00:35<06:35, 10.69s/it][Parallel(n_jobs=-1)]: Using backend LokyBackend with 4 concurrent workers.\n",
      "[Parallel(n_jobs=-1)]: Done   5 out of   5 | elapsed:   26.4s finished\n",
      "hyperopt:  10%|█         | 4/40 [01:02<09:14, 15.39s/it][Parallel(n_jobs=-1)]: Using backend LokyBackend with 4 concurrent workers.\n",
      "[Parallel(n_jobs=-1)]: Done   5 out of   5 | elapsed:    1.6s finished\n",
      "hyperopt:  12%|█▎        | 5/40 [01:03<06:34, 11.26s/it][Parallel(n_jobs=-1)]: Using backend LokyBackend with 4 concurrent workers.\n",
      "[Parallel(n_jobs=-1)]: Done   5 out of   5 | elapsed:    2.4s finished\n",
      "hyperopt:  15%|█▌        | 6/40 [01:06<04:52,  8.60s/it][Parallel(n_jobs=-1)]: Using backend LokyBackend with 4 concurrent workers.\n",
      "[Parallel(n_jobs=-1)]: Done   5 out of   5 | elapsed:   13.7s finished\n",
      "hyperopt:  18%|█▊        | 7/40 [01:19<05:34, 10.14s/it][Parallel(n_jobs=-1)]: Using backend LokyBackend with 4 concurrent workers.\n",
      "[Parallel(n_jobs=-1)]: Done   5 out of   5 | elapsed:    2.7s finished\n",
      "hyperopt:  20%|██        | 8/40 [01:22<04:13,  7.91s/it][Parallel(n_jobs=-1)]: Using backend LokyBackend with 4 concurrent workers.\n",
      "[Parallel(n_jobs=-1)]: Done   5 out of   5 | elapsed:    5.9s finished\n",
      "hyperopt:  22%|██▎       | 9/40 [01:28<03:46,  7.30s/it][Parallel(n_jobs=-1)]: Using backend LokyBackend with 4 concurrent workers.\n",
      "[Parallel(n_jobs=-1)]: Done   5 out of   5 | elapsed:   11.0s finished\n",
      "hyperopt:  25%|██▌       | 10/40 [01:39<04:12,  8.43s/it][Parallel(n_jobs=-1)]: Using backend LokyBackend with 4 concurrent workers.\n",
      "[Parallel(n_jobs=-1)]: Done   5 out of   5 | elapsed:    5.3s finished\n",
      "hyperopt:  28%|██▊       | 11/40 [01:44<03:37,  7.48s/it][Parallel(n_jobs=-1)]: Using backend LokyBackend with 4 concurrent workers.\n",
      "[Parallel(n_jobs=-1)]: Done   5 out of   5 | elapsed:    1.9s finished\n",
      "hyperopt:  30%|███       | 12/40 [01:46<02:43,  5.82s/it][Parallel(n_jobs=-1)]: Using backend LokyBackend with 4 concurrent workers.\n",
      "[Parallel(n_jobs=-1)]: Done   5 out of   5 | elapsed:    0.7s finished\n",
      "hyperopt:  32%|███▎      | 13/40 [01:47<01:56,  4.30s/it][Parallel(n_jobs=-1)]: Using backend LokyBackend with 4 concurrent workers.\n",
      "[Parallel(n_jobs=-1)]: Done   5 out of   5 | elapsed:    1.0s finished\n",
      "hyperopt:  35%|███▌      | 14/40 [01:48<01:26,  3.31s/it][Parallel(n_jobs=-1)]: Using backend LokyBackend with 4 concurrent workers.\n",
      "[Parallel(n_jobs=-1)]: Done   5 out of   5 | elapsed:    2.2s finished\n",
      "hyperopt:  38%|███▊      | 15/40 [01:50<01:14,  2.99s/it][Parallel(n_jobs=-1)]: Using backend LokyBackend with 4 concurrent workers.\n",
      "[Parallel(n_jobs=-1)]: Done   5 out of   5 | elapsed:    9.2s finished\n",
      "hyperopt:  40%|████      | 16/40 [01:59<01:56,  4.86s/it][Parallel(n_jobs=-1)]: Using backend LokyBackend with 4 concurrent workers.\n",
      "[Parallel(n_jobs=-1)]: Done   5 out of   5 | elapsed:    1.0s finished\n",
      "hyperopt:  42%|████▎     | 17/40 [02:01<01:25,  3.72s/it][Parallel(n_jobs=-1)]: Using backend LokyBackend with 4 concurrent workers.\n",
      "[Parallel(n_jobs=-1)]: Done   5 out of   5 | elapsed:   36.9s finished\n",
      "hyperopt:  45%|████▌     | 18/40 [02:37<05:00, 13.68s/it][Parallel(n_jobs=-1)]: Using backend LokyBackend with 4 concurrent workers.\n",
      "[Parallel(n_jobs=-1)]: Done   5 out of   5 | elapsed:    2.8s finished\n",
      "hyperopt:  48%|████▊     | 19/40 [02:40<03:38, 10.42s/it][Parallel(n_jobs=-1)]: Using backend LokyBackend with 4 concurrent workers.\n",
      "[Parallel(n_jobs=-1)]: Done   5 out of   5 | elapsed:    0.4s finished\n",
      "hyperopt:  50%|█████     | 20/40 [02:41<02:28,  7.42s/it][Parallel(n_jobs=-1)]: Using backend LokyBackend with 4 concurrent workers.\n",
      "[Parallel(n_jobs=-1)]: Done   5 out of   5 | elapsed:    3.2s finished\n",
      "hyperopt:  52%|█████▎    | 21/40 [02:44<01:56,  6.16s/it][Parallel(n_jobs=-1)]: Using backend LokyBackend with 4 concurrent workers.\n",
      "[Parallel(n_jobs=-1)]: Done   5 out of   5 | elapsed:    2.7s finished\n",
      "hyperopt:  55%|█████▌    | 22/40 [02:47<01:32,  5.14s/it][Parallel(n_jobs=-1)]: Using backend LokyBackend with 4 concurrent workers.\n",
      "[Parallel(n_jobs=-1)]: Done   5 out of   5 | elapsed:    3.3s finished\n",
      "hyperopt:  57%|█████▊    | 23/40 [02:50<01:17,  4.58s/it][Parallel(n_jobs=-1)]: Using backend LokyBackend with 4 concurrent workers.\n",
      "[Parallel(n_jobs=-1)]: Done   5 out of   5 | elapsed:    2.5s finished\n",
      "hyperopt:  60%|██████    | 24/40 [02:52<01:03,  3.96s/it][Parallel(n_jobs=-1)]: Using backend LokyBackend with 4 concurrent workers.\n",
      "[Parallel(n_jobs=-1)]: Done   5 out of   5 | elapsed:    2.0s finished\n",
      "hyperopt:  62%|██████▎   | 25/40 [02:54<00:50,  3.36s/it][Parallel(n_jobs=-1)]: Using backend LokyBackend with 4 concurrent workers.\n",
      "[Parallel(n_jobs=-1)]: Done   5 out of   5 | elapsed:    1.7s finished\n",
      "hyperopt:  65%|██████▌   | 26/40 [02:56<00:40,  2.88s/it][Parallel(n_jobs=-1)]: Using backend LokyBackend with 4 concurrent workers.\n",
      "[Parallel(n_jobs=-1)]: Done   5 out of   5 | elapsed:    2.8s finished\n",
      "hyperopt:  68%|██████▊   | 27/40 [02:59<00:37,  2.87s/it][Parallel(n_jobs=-1)]: Using backend LokyBackend with 4 concurrent workers.\n",
      "[Parallel(n_jobs=-1)]: Done   5 out of   5 | elapsed:    4.1s finished\n",
      "hyperopt:  70%|███████   | 28/40 [03:03<00:38,  3.24s/it][Parallel(n_jobs=-1)]: Using backend LokyBackend with 4 concurrent workers.\n",
      "[Parallel(n_jobs=-1)]: Done   5 out of   5 | elapsed:    2.0s finished\n",
      "hyperopt:  72%|███████▎  | 29/40 [03:05<00:31,  2.89s/it][Parallel(n_jobs=-1)]: Using backend LokyBackend with 4 concurrent workers.\n",
      "[Parallel(n_jobs=-1)]: Done   5 out of   5 | elapsed:    3.0s finished\n",
      "hyperopt:  75%|███████▌  | 30/40 [03:08<00:29,  2.93s/it][Parallel(n_jobs=-1)]: Using backend LokyBackend with 4 concurrent workers.\n",
      "[Parallel(n_jobs=-1)]: Done   5 out of   5 | elapsed:    1.2s finished\n",
      "hyperopt:  78%|███████▊  | 31/40 [03:09<00:21,  2.42s/it][Parallel(n_jobs=-1)]: Using backend LokyBackend with 4 concurrent workers.\n",
      "[Parallel(n_jobs=-1)]: Done   5 out of   5 | elapsed:   29.8s finished\n",
      "hyperopt:  80%|████████  | 32/40 [03:39<01:25, 10.63s/it][Parallel(n_jobs=-1)]: Using backend LokyBackend with 4 concurrent workers.\n",
      "[Parallel(n_jobs=-1)]: Done   5 out of   5 | elapsed:    3.3s finished\n",
      "hyperopt:  82%|████████▎ | 33/40 [03:43<00:59,  8.43s/it][Parallel(n_jobs=-1)]: Using backend LokyBackend with 4 concurrent workers.\n",
      "[Parallel(n_jobs=-1)]: Done   5 out of   5 | elapsed:    3.2s finished\n",
      "hyperopt:  85%|████████▌ | 34/40 [03:46<00:41,  6.86s/it][Parallel(n_jobs=-1)]: Using backend LokyBackend with 4 concurrent workers.\n",
      "[Parallel(n_jobs=-1)]: Done   5 out of   5 | elapsed:    2.8s finished\n",
      "hyperopt:  88%|████████▊ | 35/40 [03:49<00:28,  5.65s/it][Parallel(n_jobs=-1)]: Using backend LokyBackend with 4 concurrent workers.\n",
      "[Parallel(n_jobs=-1)]: Done   5 out of   5 | elapsed:    4.6s finished\n",
      "hyperopt:  90%|█████████ | 36/40 [03:53<00:21,  5.35s/it][Parallel(n_jobs=-1)]: Using backend LokyBackend with 4 concurrent workers.\n",
      "[Parallel(n_jobs=-1)]: Done   5 out of   5 | elapsed:   44.6s finished\n",
      "hyperopt:  92%|█████████▎| 37/40 [04:38<00:51, 17.13s/it][Parallel(n_jobs=-1)]: Using backend LokyBackend with 4 concurrent workers.\n",
      "[Parallel(n_jobs=-1)]: Done   5 out of   5 | elapsed:    2.9s finished\n",
      "hyperopt:  95%|█████████▌| 38/40 [04:41<00:25, 12.85s/it][Parallel(n_jobs=-1)]: Using backend LokyBackend with 4 concurrent workers.\n",
      "[Parallel(n_jobs=-1)]: Done   5 out of   5 | elapsed:   57.0s finished\n",
      "hyperopt:  98%|█████████▊| 39/40 [05:38<00:26, 26.10s/it][Parallel(n_jobs=-1)]: Using backend LokyBackend with 4 concurrent workers.\n",
      "[Parallel(n_jobs=-1)]: Done   5 out of   5 | elapsed:    0.9s finished\n"
     ]
    },
    {
     "name": "stderr",
     "output_type": "stream",
     "text": [
      "hyperopt: 100%|██████████| 40/40 [05:39<00:00, 18.56s/it]\n"
     ]
    }
   ],
   "source": [
    "trials2 = run_trials_template(X2, y2, space4_lm, evals=40)"
   ]
  },
  {
   "cell_type": "code",
   "execution_count": 146,
   "metadata": {},
   "outputs": [],
   "source": [
    "df_trials2 = trials_df(trials2)"
   ]
  },
  {
   "cell_type": "code",
   "execution_count": 147,
   "metadata": {},
   "outputs": [
    {
     "data": {
      "text/html": [
       "<div>\n",
       "<style scoped>\n",
       "    .dataframe tbody tr th:only-of-type {\n",
       "        vertical-align: middle;\n",
       "    }\n",
       "\n",
       "    .dataframe tbody tr th {\n",
       "        vertical-align: top;\n",
       "    }\n",
       "\n",
       "    .dataframe thead th {\n",
       "        text-align: right;\n",
       "    }\n",
       "</style>\n",
       "<table border=\"1\" class=\"dataframe\">\n",
       "  <thead>\n",
       "    <tr style=\"text-align: right;\">\n",
       "      <th></th>\n",
       "      <th>C</th>\n",
       "      <th>class_weight</th>\n",
       "      <th>penalty</th>\n",
       "      <th>qscore</th>\n",
       "      <th>qscore_std</th>\n",
       "      <th>scaler_centering</th>\n",
       "      <th>scaler_type</th>\n",
       "    </tr>\n",
       "  </thead>\n",
       "  <tbody>\n",
       "    <tr>\n",
       "      <th>33</th>\n",
       "      <td>0.102148</td>\n",
       "      <td>1</td>\n",
       "      <td>0</td>\n",
       "      <td>0.628366</td>\n",
       "      <td>-0.010314</td>\n",
       "      <td>1</td>\n",
       "      <td>1</td>\n",
       "    </tr>\n",
       "    <tr>\n",
       "      <th>32</th>\n",
       "      <td>0.095460</td>\n",
       "      <td>1</td>\n",
       "      <td>0</td>\n",
       "      <td>0.628312</td>\n",
       "      <td>-0.010320</td>\n",
       "      <td>1</td>\n",
       "      <td>1</td>\n",
       "    </tr>\n",
       "    <tr>\n",
       "      <th>29</th>\n",
       "      <td>0.137746</td>\n",
       "      <td>1</td>\n",
       "      <td>0</td>\n",
       "      <td>0.628105</td>\n",
       "      <td>-0.010075</td>\n",
       "      <td>0</td>\n",
       "      <td>1</td>\n",
       "    </tr>\n",
       "    <tr>\n",
       "      <th>21</th>\n",
       "      <td>0.177285</td>\n",
       "      <td>0</td>\n",
       "      <td>0</td>\n",
       "      <td>0.627972</td>\n",
       "      <td>-0.010215</td>\n",
       "      <td>0</td>\n",
       "      <td>1</td>\n",
       "    </tr>\n",
       "    <tr>\n",
       "      <th>20</th>\n",
       "      <td>0.185108</td>\n",
       "      <td>0</td>\n",
       "      <td>0</td>\n",
       "      <td>0.627959</td>\n",
       "      <td>-0.010196</td>\n",
       "      <td>0</td>\n",
       "      <td>1</td>\n",
       "    </tr>\n",
       "  </tbody>\n",
       "</table>\n",
       "</div>"
      ],
      "text/plain": [
       "           C  class_weight  penalty    qscore  qscore_std  scaler_centering  \\\n",
       "33  0.102148             1        0  0.628366   -0.010314                 1   \n",
       "32  0.095460             1        0  0.628312   -0.010320                 1   \n",
       "29  0.137746             1        0  0.628105   -0.010075                 0   \n",
       "21  0.177285             0        0  0.627972   -0.010215                 0   \n",
       "20  0.185108             0        0  0.627959   -0.010196                 0   \n",
       "\n",
       "    scaler_type  \n",
       "33            1  \n",
       "32            1  \n",
       "29            1  \n",
       "21            1  \n",
       "20            1  "
      ]
     },
     "execution_count": 147,
     "metadata": {},
     "output_type": "execute_result"
    }
   ],
   "source": [
    "df_trials2.head()"
   ]
  }
 ],
 "metadata": {
  "anaconda-cloud": {},
  "kernelspec": {
   "display_name": "Python 3",
   "language": "python",
   "name": "python3"
  },
  "language_info": {
   "codemirror_mode": {
    "name": "ipython",
    "version": 3
   },
   "file_extension": ".py",
   "mimetype": "text/x-python",
   "name": "python",
   "nbconvert_exporter": "python",
   "pygments_lexer": "ipython3",
   "version": "3.6.7"
  },
  "nav_menu": {},
  "toc": {
   "colors": {
    "hover_highlight": "#DAA520",
    "navigate_num": "#000000",
    "navigate_text": "#333333",
    "running_highlight": "#FF0000",
    "selected_highlight": "#FFD700",
    "sidebar_border": "#EEEEEE",
    "wrapper_background": "#FFFFFF"
   },
   "moveMenuLeft": true,
   "nav_menu": {
    "height": "347px",
    "width": "253px"
   },
   "navigate_menu": true,
   "number_sections": false,
   "sideBar": true,
   "threshold": 4,
   "toc_cell": true,
   "toc_position": {
    "height": "222px",
    "left": "0px",
    "right": "1247.33px",
    "top": "108px",
    "width": "182px"
   },
   "toc_section_display": "block",
   "toc_window_display": true,
   "widenNotebook": false
  },
  "toc_position": {
   "height": "40px",
   "left": "816px",
   "right": "38.6667px",
   "top": "0px",
   "width": "212px"
  }
 },
 "nbformat": 4,
 "nbformat_minor": 1
}
