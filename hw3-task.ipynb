{
 "cells": [
  {
   "cell_type": "markdown",
   "metadata": {},
   "source": [
    "# Team 2"
   ]
  },
  {
   "cell_type": "markdown",
   "metadata": {},
   "source": [
    "- Michael Tomilov\n",
    "- Roman Romanov\n",
    "- Yura Khaltin"
   ]
  },
  {
   "cell_type": "markdown",
   "metadata": {},
   "source": [
    "# Data Read"
   ]
  },
  {
   "cell_type": "code",
   "execution_count": 224,
   "metadata": {},
   "outputs": [],
   "source": [
    "import pandas as pd\n",
    "import numpy as np\n",
    "import matplotlib.pyplot as plt\n",
    "\n",
    "%matplotlib inline\n",
    "\n",
    "plt.style.use('ggplot')\n",
    "plt.rcParams['figure.figsize'] = (12,5)"
   ]
  },
  {
   "cell_type": "code",
   "execution_count": 225,
   "metadata": {},
   "outputs": [],
   "source": [
    "df_train = pd.read_csv('all/train.csv', sep=',', encoding='utf8')"
   ]
  },
  {
   "cell_type": "code",
   "execution_count": 226,
   "metadata": {},
   "outputs": [
    {
     "name": "stdout",
     "output_type": "stream",
     "text": [
      "<class 'pandas.core.frame.DataFrame'>\n",
      "RangeIndex: 24712 entries, 0 to 24711\n",
      "Data columns (total 22 columns):\n",
      "_id               24712 non-null object\n",
      "age               24712 non-null int64\n",
      "job               24712 non-null object\n",
      "marital           24712 non-null object\n",
      "education         24712 non-null object\n",
      "default           24712 non-null object\n",
      "housing           24712 non-null object\n",
      "loan              24712 non-null object\n",
      "contact           24712 non-null object\n",
      "month             24712 non-null object\n",
      "day_of_week       24712 non-null object\n",
      "duration          24712 non-null int64\n",
      "campaign          24712 non-null int64\n",
      "pdays             24712 non-null int64\n",
      "previous          24712 non-null int64\n",
      "poutcome          24712 non-null object\n",
      "emp.var.rate      24712 non-null float64\n",
      "cons.price.idx    24712 non-null float64\n",
      "cons.conf.idx     24712 non-null float64\n",
      "euribor3m         24712 non-null float64\n",
      "nr.employed       24712 non-null float64\n",
      "target            24712 non-null int64\n",
      "dtypes: float64(5), int64(6), object(11)\n",
      "memory usage: 4.1+ MB\n"
     ]
    }
   ],
   "source": [
    "df_train.info()"
   ]
  },
  {
   "cell_type": "code",
   "execution_count": 227,
   "metadata": {},
   "outputs": [
    {
     "data": {
      "text/plain": [
       "(24712, 22)"
      ]
     },
     "execution_count": 227,
     "metadata": {},
     "output_type": "execute_result"
    }
   ],
   "source": [
    "df_train.shape"
   ]
  },
  {
   "cell_type": "code",
   "execution_count": 228,
   "metadata": {},
   "outputs": [],
   "source": [
    "df_test = pd.read_csv('all/test.csv', sep=',', encoding='utf8')"
   ]
  },
  {
   "cell_type": "code",
   "execution_count": 229,
   "metadata": {},
   "outputs": [
    {
     "data": {
      "text/plain": [
       "(16476, 21)"
      ]
     },
     "execution_count": 229,
     "metadata": {},
     "output_type": "execute_result"
    }
   ],
   "source": [
    "df_test.shape"
   ]
  },
  {
   "cell_type": "code",
   "execution_count": 230,
   "metadata": {},
   "outputs": [
    {
     "data": {
      "text/html": [
       "<div>\n",
       "<style scoped>\n",
       "    .dataframe tbody tr th:only-of-type {\n",
       "        vertical-align: middle;\n",
       "    }\n",
       "\n",
       "    .dataframe tbody tr th {\n",
       "        vertical-align: top;\n",
       "    }\n",
       "\n",
       "    .dataframe thead th {\n",
       "        text-align: right;\n",
       "    }\n",
       "</style>\n",
       "<table border=\"1\" class=\"dataframe\">\n",
       "  <thead>\n",
       "    <tr style=\"text-align: right;\">\n",
       "      <th></th>\n",
       "      <th>0</th>\n",
       "      <th>1</th>\n",
       "      <th>2</th>\n",
       "      <th>3</th>\n",
       "      <th>4</th>\n",
       "    </tr>\n",
       "  </thead>\n",
       "  <tbody>\n",
       "    <tr>\n",
       "      <th>_id</th>\n",
       "      <td>df7489733b004bbe40d3d37b34f82419</td>\n",
       "      <td>905a0b9a5456ee962223033473666be3</td>\n",
       "      <td>02d69c07ec6d68e31d641edd45ce61cd</td>\n",
       "      <td>e492fbe0cccaf67cdb5c0944dbc8a167</td>\n",
       "      <td>ac2dc6f5835bdea8e71dd99b65208d07</td>\n",
       "    </tr>\n",
       "    <tr>\n",
       "      <th>age</th>\n",
       "      <td>54</td>\n",
       "      <td>36</td>\n",
       "      <td>53</td>\n",
       "      <td>34</td>\n",
       "      <td>29</td>\n",
       "    </tr>\n",
       "    <tr>\n",
       "      <th>job</th>\n",
       "      <td>technician</td>\n",
       "      <td>services</td>\n",
       "      <td>blue-collar</td>\n",
       "      <td>blue-collar</td>\n",
       "      <td>services</td>\n",
       "    </tr>\n",
       "    <tr>\n",
       "      <th>marital</th>\n",
       "      <td>married</td>\n",
       "      <td>single</td>\n",
       "      <td>married</td>\n",
       "      <td>married</td>\n",
       "      <td>single</td>\n",
       "    </tr>\n",
       "    <tr>\n",
       "      <th>education</th>\n",
       "      <td>professional.course</td>\n",
       "      <td>basic.4y</td>\n",
       "      <td>basic.4y</td>\n",
       "      <td>basic.9y</td>\n",
       "      <td>university.degree</td>\n",
       "    </tr>\n",
       "    <tr>\n",
       "      <th>default</th>\n",
       "      <td>unknown</td>\n",
       "      <td>no</td>\n",
       "      <td>no</td>\n",
       "      <td>no</td>\n",
       "      <td>no</td>\n",
       "    </tr>\n",
       "    <tr>\n",
       "      <th>housing</th>\n",
       "      <td>no</td>\n",
       "      <td>no</td>\n",
       "      <td>yes</td>\n",
       "      <td>yes</td>\n",
       "      <td>yes</td>\n",
       "    </tr>\n",
       "    <tr>\n",
       "      <th>loan</th>\n",
       "      <td>no</td>\n",
       "      <td>no</td>\n",
       "      <td>no</td>\n",
       "      <td>yes</td>\n",
       "      <td>no</td>\n",
       "    </tr>\n",
       "    <tr>\n",
       "      <th>contact</th>\n",
       "      <td>cellular</td>\n",
       "      <td>telephone</td>\n",
       "      <td>cellular</td>\n",
       "      <td>telephone</td>\n",
       "      <td>telephone</td>\n",
       "    </tr>\n",
       "    <tr>\n",
       "      <th>month</th>\n",
       "      <td>aug</td>\n",
       "      <td>may</td>\n",
       "      <td>aug</td>\n",
       "      <td>may</td>\n",
       "      <td>aug</td>\n",
       "    </tr>\n",
       "    <tr>\n",
       "      <th>day_of_week</th>\n",
       "      <td>tue</td>\n",
       "      <td>mon</td>\n",
       "      <td>mon</td>\n",
       "      <td>wed</td>\n",
       "      <td>fri</td>\n",
       "    </tr>\n",
       "    <tr>\n",
       "      <th>duration</th>\n",
       "      <td>87</td>\n",
       "      <td>291</td>\n",
       "      <td>182</td>\n",
       "      <td>180</td>\n",
       "      <td>6</td>\n",
       "    </tr>\n",
       "    <tr>\n",
       "      <th>campaign</th>\n",
       "      <td>1</td>\n",
       "      <td>1</td>\n",
       "      <td>1</td>\n",
       "      <td>2</td>\n",
       "      <td>1</td>\n",
       "    </tr>\n",
       "    <tr>\n",
       "      <th>pdays</th>\n",
       "      <td>999</td>\n",
       "      <td>999</td>\n",
       "      <td>999</td>\n",
       "      <td>999</td>\n",
       "      <td>999</td>\n",
       "    </tr>\n",
       "    <tr>\n",
       "      <th>previous</th>\n",
       "      <td>0</td>\n",
       "      <td>0</td>\n",
       "      <td>0</td>\n",
       "      <td>0</td>\n",
       "      <td>0</td>\n",
       "    </tr>\n",
       "    <tr>\n",
       "      <th>poutcome</th>\n",
       "      <td>nonexistent</td>\n",
       "      <td>nonexistent</td>\n",
       "      <td>nonexistent</td>\n",
       "      <td>nonexistent</td>\n",
       "      <td>nonexistent</td>\n",
       "    </tr>\n",
       "    <tr>\n",
       "      <th>emp.var.rate</th>\n",
       "      <td>1.4</td>\n",
       "      <td>1.1</td>\n",
       "      <td>1.4</td>\n",
       "      <td>1.1</td>\n",
       "      <td>-1.7</td>\n",
       "    </tr>\n",
       "    <tr>\n",
       "      <th>cons.price.idx</th>\n",
       "      <td>93.444</td>\n",
       "      <td>93.994</td>\n",
       "      <td>93.444</td>\n",
       "      <td>93.994</td>\n",
       "      <td>94.027</td>\n",
       "    </tr>\n",
       "    <tr>\n",
       "      <th>cons.conf.idx</th>\n",
       "      <td>-36.1</td>\n",
       "      <td>-36.4</td>\n",
       "      <td>-36.1</td>\n",
       "      <td>-36.4</td>\n",
       "      <td>-38.3</td>\n",
       "    </tr>\n",
       "    <tr>\n",
       "      <th>euribor3m</th>\n",
       "      <td>4.963</td>\n",
       "      <td>4.857</td>\n",
       "      <td>4.965</td>\n",
       "      <td>4.857</td>\n",
       "      <td>0.89</td>\n",
       "    </tr>\n",
       "    <tr>\n",
       "      <th>nr.employed</th>\n",
       "      <td>5228.1</td>\n",
       "      <td>5191</td>\n",
       "      <td>5228.1</td>\n",
       "      <td>5191</td>\n",
       "      <td>4991.6</td>\n",
       "    </tr>\n",
       "    <tr>\n",
       "      <th>target</th>\n",
       "      <td>0</td>\n",
       "      <td>0</td>\n",
       "      <td>0</td>\n",
       "      <td>0</td>\n",
       "      <td>0</td>\n",
       "    </tr>\n",
       "  </tbody>\n",
       "</table>\n",
       "</div>"
      ],
      "text/plain": [
       "                                               0  \\\n",
       "_id             df7489733b004bbe40d3d37b34f82419   \n",
       "age                                           54   \n",
       "job                                   technician   \n",
       "marital                                  married   \n",
       "education                    professional.course   \n",
       "default                                  unknown   \n",
       "housing                                       no   \n",
       "loan                                          no   \n",
       "contact                                 cellular   \n",
       "month                                        aug   \n",
       "day_of_week                                  tue   \n",
       "duration                                      87   \n",
       "campaign                                       1   \n",
       "pdays                                        999   \n",
       "previous                                       0   \n",
       "poutcome                             nonexistent   \n",
       "emp.var.rate                                 1.4   \n",
       "cons.price.idx                            93.444   \n",
       "cons.conf.idx                              -36.1   \n",
       "euribor3m                                  4.963   \n",
       "nr.employed                               5228.1   \n",
       "target                                         0   \n",
       "\n",
       "                                               1  \\\n",
       "_id             905a0b9a5456ee962223033473666be3   \n",
       "age                                           36   \n",
       "job                                     services   \n",
       "marital                                   single   \n",
       "education                               basic.4y   \n",
       "default                                       no   \n",
       "housing                                       no   \n",
       "loan                                          no   \n",
       "contact                                telephone   \n",
       "month                                        may   \n",
       "day_of_week                                  mon   \n",
       "duration                                     291   \n",
       "campaign                                       1   \n",
       "pdays                                        999   \n",
       "previous                                       0   \n",
       "poutcome                             nonexistent   \n",
       "emp.var.rate                                 1.1   \n",
       "cons.price.idx                            93.994   \n",
       "cons.conf.idx                              -36.4   \n",
       "euribor3m                                  4.857   \n",
       "nr.employed                                 5191   \n",
       "target                                         0   \n",
       "\n",
       "                                               2  \\\n",
       "_id             02d69c07ec6d68e31d641edd45ce61cd   \n",
       "age                                           53   \n",
       "job                                  blue-collar   \n",
       "marital                                  married   \n",
       "education                               basic.4y   \n",
       "default                                       no   \n",
       "housing                                      yes   \n",
       "loan                                          no   \n",
       "contact                                 cellular   \n",
       "month                                        aug   \n",
       "day_of_week                                  mon   \n",
       "duration                                     182   \n",
       "campaign                                       1   \n",
       "pdays                                        999   \n",
       "previous                                       0   \n",
       "poutcome                             nonexistent   \n",
       "emp.var.rate                                 1.4   \n",
       "cons.price.idx                            93.444   \n",
       "cons.conf.idx                              -36.1   \n",
       "euribor3m                                  4.965   \n",
       "nr.employed                               5228.1   \n",
       "target                                         0   \n",
       "\n",
       "                                               3  \\\n",
       "_id             e492fbe0cccaf67cdb5c0944dbc8a167   \n",
       "age                                           34   \n",
       "job                                  blue-collar   \n",
       "marital                                  married   \n",
       "education                               basic.9y   \n",
       "default                                       no   \n",
       "housing                                      yes   \n",
       "loan                                         yes   \n",
       "contact                                telephone   \n",
       "month                                        may   \n",
       "day_of_week                                  wed   \n",
       "duration                                     180   \n",
       "campaign                                       2   \n",
       "pdays                                        999   \n",
       "previous                                       0   \n",
       "poutcome                             nonexistent   \n",
       "emp.var.rate                                 1.1   \n",
       "cons.price.idx                            93.994   \n",
       "cons.conf.idx                              -36.4   \n",
       "euribor3m                                  4.857   \n",
       "nr.employed                                 5191   \n",
       "target                                         0   \n",
       "\n",
       "                                               4  \n",
       "_id             ac2dc6f5835bdea8e71dd99b65208d07  \n",
       "age                                           29  \n",
       "job                                     services  \n",
       "marital                                   single  \n",
       "education                      university.degree  \n",
       "default                                       no  \n",
       "housing                                      yes  \n",
       "loan                                          no  \n",
       "contact                                telephone  \n",
       "month                                        aug  \n",
       "day_of_week                                  fri  \n",
       "duration                                       6  \n",
       "campaign                                       1  \n",
       "pdays                                        999  \n",
       "previous                                       0  \n",
       "poutcome                             nonexistent  \n",
       "emp.var.rate                                -1.7  \n",
       "cons.price.idx                            94.027  \n",
       "cons.conf.idx                              -38.3  \n",
       "euribor3m                                   0.89  \n",
       "nr.employed                               4991.6  \n",
       "target                                         0  "
      ]
     },
     "execution_count": 230,
     "metadata": {},
     "output_type": "execute_result"
    }
   ],
   "source": [
    "df_train.head().T"
   ]
  },
  {
   "cell_type": "code",
   "execution_count": 231,
   "metadata": {},
   "outputs": [
    {
     "name": "stdout",
     "output_type": "stream",
     "text": [
      "==========\n",
      "_id\n",
      "b728cbd063992366b91ff4c228c85b9b    1\n",
      "46bf1d17152eb636b1386738dcd5c2c7    1\n",
      "cfa8f73081a147ffb86ce1889fdeb786    1\n",
      "0ca32652f635092791624694c5315db8    1\n",
      "fc493402b8b810641400005b2ddfdcd8    1\n",
      "a28f713a55743a69a717ad5923a03371    1\n",
      "1bc5cc2b826ecbe87649ccf1eb61ffd4    1\n",
      "30bc003031e41ef7576ff79da23b9f28    1\n",
      "4ce1b075fd4b0d2ff2a4207421ac6d15    1\n",
      "84328fd288f0672f9b17fec4892685d8    1\n",
      "339a5a70d20da5c1f723699f62f4764f    1\n",
      "bed24ecd4124e98dd0e83ad3efb02419    1\n",
      "d7853e68109737be2afc2400b2b8add2    1\n",
      "d29f090f28015d26a2e3f637e5411ee8    1\n",
      "f048224a14d884c8946397ce96e42acb    1\n",
      "5a6d027c5cf64bc15f6de5bd51fe65ce    1\n",
      "d2c0b9c305eff0e2060720fb55e7781c    1\n",
      "ced5b2988a617d0aac0ad466f6a3bca5    1\n",
      "ad86bcf927baf6a9bacfd2604e9c32cb    1\n",
      "6a5e0c052d827f7739ccbfa943f873c5    1\n",
      "7912f2211a2f4f0508036c48892339ac    1\n",
      "1ad3d21a7a5ac1e505fdbeeff86b7296    1\n",
      "e2ecd00756d153e59799e88011b12a01    1\n",
      "61338c92cb316d9ce7d70fdfccba5e8f    1\n",
      "b9501ad1035cfc3ac0b7a6789fd35ff9    1\n",
      "b9913e9239b98e4e592decd767bbb81c    1\n",
      "90ad10d7adff4e96d9f84f702c9f5d40    1\n",
      "7ae07256c346a8ef8d8d0472a0544f75    1\n",
      "a1968b38c9a7abfecb4c832a2ca9bd53    1\n",
      "6dcc2078950e9425a4c7379e6ee342ee    1\n",
      "                                   ..\n",
      "45b0a1719e6f76f63cd907440eef258a    1\n",
      "fd059d2716d46b9c9e6ac032096720f3    1\n",
      "59b3dca8935a0391f94af6b540cd1c03    1\n",
      "11fb42c26eca6e94c1d76f5fe1795137    1\n",
      "1ba126fde7ab663eb192cda4b1603eaf    1\n",
      "4c92ac9ed5c6519eb675271ce5ca9553    1\n",
      "52ecb5585462bce3977fd7d9dc4963e5    1\n",
      "6364819f614b97842585ac94eb47e08b    1\n",
      "9f93ecd7775f2c6fb1d6660c4af2a621    1\n",
      "55712f2f2f21a8321b9ee45d40b89091    1\n",
      "b915fd75dc025e7c9b4d842159ee9d21    1\n",
      "b46fe1d8b43aa261b81d0639225ef1aa    1\n",
      "760c65fb74d59af37923b40fe186f2f6    1\n",
      "d6c0a5932eb04d2899b0d72dc9a95ff8    1\n",
      "6f725ed3b5f95a09bedd246cda21f4e4    1\n",
      "2ba2a4d1125df4de261a686fabc3d1c6    1\n",
      "2dc692b87d877b90ea345a23784b35ce    1\n",
      "cb674d221566db75911e6deaed238a0d    1\n",
      "498301adce792fa5914a7057099d08e0    1\n",
      "a90bd805cb6ad2ec48f833f04495ac2c    1\n",
      "deb172bfe939a897521fa40a48a8049e    1\n",
      "2550f02b772c88abee828e8a9057611d    1\n",
      "a30d3739e82db9e6dbd15374790afda3    1\n",
      "0eb27663296fb0fc5e127c532f2e7024    1\n",
      "b1dc3add5eef19bc2c6cdc2739067247    1\n",
      "e205ecc8655944fe59f9eb2b1f132532    1\n",
      "b04081c0c4c92ce9627228bb71637376    1\n",
      "fdf509b128af542c1f6eb8c04eb29a90    1\n",
      "ee0dbbe4d040b5db03975cdecee17e14    1\n",
      "dae31a9d8c02d387d63e4e0075a55e96    1\n",
      "Name: _id, Length: 24712, dtype: int64\n",
      "\n",
      "\n",
      "==========\n",
      "job\n",
      "admin.           6254\n",
      "blue-collar      5621\n",
      "technician       3987\n",
      "services         2391\n",
      "management       1758\n",
      "retired          1001\n",
      "entrepreneur      853\n",
      "self-employed     850\n",
      "housemaid         652\n",
      "unemployed        594\n",
      "student           554\n",
      "unknown           197\n",
      "Name: job, dtype: int64\n",
      "\n",
      "\n",
      "==========\n",
      "marital\n",
      "married     14871\n",
      "single       7041\n",
      "divorced     2755\n",
      "unknown        45\n",
      "Name: marital, dtype: int64\n",
      "\n",
      "\n",
      "==========\n",
      "education\n",
      "university.degree      7309\n",
      "high.school            5737\n",
      "basic.9y               3565\n",
      "professional.course    3112\n",
      "basic.4y               2523\n",
      "basic.6y               1399\n",
      "unknown                1060\n",
      "illiterate                7\n",
      "Name: education, dtype: int64\n",
      "\n",
      "\n",
      "==========\n",
      "default\n",
      "no         19567\n",
      "unknown     5144\n",
      "yes            1\n",
      "Name: default, dtype: int64\n",
      "\n",
      "\n",
      "==========\n",
      "housing\n",
      "yes        12934\n",
      "no         11156\n",
      "unknown      622\n",
      "Name: housing, dtype: int64\n",
      "\n",
      "\n",
      "==========\n",
      "loan\n",
      "no         20334\n",
      "yes         3756\n",
      "unknown      622\n",
      "Name: loan, dtype: int64\n",
      "\n",
      "\n",
      "==========\n",
      "contact\n",
      "cellular     15729\n",
      "telephone     8983\n",
      "Name: contact, dtype: int64\n",
      "\n",
      "\n",
      "==========\n",
      "month\n",
      "may    8199\n",
      "jul    4364\n",
      "aug    3731\n",
      "jun    3191\n",
      "nov    2425\n",
      "apr    1568\n",
      "oct     442\n",
      "mar     346\n",
      "sep     337\n",
      "dec     109\n",
      "Name: month, dtype: int64\n",
      "\n",
      "\n",
      "==========\n",
      "day_of_week\n",
      "thu    5144\n",
      "mon    5043\n",
      "wed    4939\n",
      "tue    4846\n",
      "fri    4740\n",
      "Name: day_of_week, dtype: int64\n",
      "\n",
      "\n",
      "==========\n",
      "poutcome\n",
      "nonexistent    21346\n",
      "failure         2566\n",
      "success          800\n",
      "Name: poutcome, dtype: int64\n",
      "\n",
      "\n"
     ]
    }
   ],
   "source": [
    "for i in df_train.columns: # перебираем все столбцы\n",
    "    if str(df_train[i].dtype) == 'object': # если тип столбца - object\n",
    "        print('='*10)\n",
    "        print(i) # выводим название столбца\n",
    "#         print(list(set(df_train[i]))[:100]) # выводим все его значения (но делаем set - чтоб значения не повторялись)\n",
    "        print(df_train[i].value_counts())\n",
    "        print('\\n') # выводим пустую строку"
   ]
  },
  {
   "cell_type": "code",
   "execution_count": 232,
   "metadata": {},
   "outputs": [
    {
     "data": {
      "text/plain": [
       "<matplotlib.legend.Legend at 0x7f6edfbab978>"
      ]
     },
     "execution_count": 232,
     "metadata": {},
     "output_type": "execute_result"
    },
    {
     "data": {
      "image/png": "[encoded data removed]",
      "text/plain": [
       "<Figure size 864x360 with 1 Axes>"
      ]
     },
     "metadata": {},
     "output_type": "display_data"
    }
   ],
   "source": [
    "df_train['duration'].hist(label='duration', bins=20)\n",
    "plt.legend()"
   ]
  },
  {
   "cell_type": "code",
   "execution_count": 233,
   "metadata": {},
   "outputs": [
    {
     "data": {
      "text/plain": [
       "<matplotlib.legend.Legend at 0x7f6edfbab0f0>"
      ]
     },
     "execution_count": 233,
     "metadata": {},
     "output_type": "execute_result"
    },
    {
     "data": {
      "image/png": "[encoded data removed]",
      "text/plain": [
       "<Figure size 864x360 with 1 Axes>"
      ]
     },
     "metadata": {},
     "output_type": "display_data"
    }
   ],
   "source": [
    "df_train['pdays'].hist(label='pdays', bins=20)\n",
    "plt.legend()"
   ]
  },
  {
   "cell_type": "code",
   "execution_count": 234,
   "metadata": {},
   "outputs": [
    {
     "data": {
      "text/plain": [
       "(24667, 22)"
      ]
     },
     "execution_count": 234,
     "metadata": {},
     "output_type": "execute_result"
    }
   ],
   "source": [
    "df.shape"
   ]
  },
  {
   "cell_type": "markdown",
   "metadata": {},
   "source": [
    "# Data Preprocessing"
   ]
  },
  {
   "cell_type": "code",
   "execution_count": 235,
   "metadata": {},
   "outputs": [],
   "source": [
    "def preproc_data(df_input):\n",
    "    df = df_input.copy()\n",
    "    \n",
    "    df = df.drop('_id', axis=1)\n",
    "    categorical = df.select_dtypes(include=['object', 'category']).columns\n",
    "#     for cat in categorical:\n",
    "#         df.loc[df[cat] == 'unknown', cat] = df[cat].value_counts().idxmax()\n",
    "    df = pd.get_dummies(df, columns=categorical)\n",
    "    \n",
    "    return df"
   ]
  },
  {
   "cell_type": "code",
   "execution_count": 236,
   "metadata": {},
   "outputs": [],
   "source": [
    "df_train_preproc = df_train.pipe(preproc_data)"
   ]
  },
  {
   "cell_type": "code",
   "execution_count": 237,
   "metadata": {},
   "outputs": [],
   "source": [
    "df_test_preproc = df_test.pipe(preproc_data)"
   ]
  },
  {
   "cell_type": "code",
   "execution_count": 238,
   "metadata": {},
   "outputs": [
    {
     "data": {
      "text/plain": [
       "(24712, 64)"
      ]
     },
     "execution_count": 238,
     "metadata": {},
     "output_type": "execute_result"
    }
   ],
   "source": [
    "df_train_preproc.shape"
   ]
  },
  {
   "cell_type": "code",
   "execution_count": 239,
   "metadata": {},
   "outputs": [
    {
     "data": {
      "text/plain": [
       "(16476, 63)"
      ]
     },
     "execution_count": 239,
     "metadata": {},
     "output_type": "execute_result"
    }
   ],
   "source": [
    "df_test_preproc.shape"
   ]
  },
  {
   "cell_type": "code",
   "execution_count": 240,
   "metadata": {},
   "outputs": [],
   "source": [
    "y = df_train_preproc['target']\n",
    "X = df_train_preproc.drop('target', axis=1)\n",
    "X_final_test = df_test_preproc"
   ]
  },
  {
   "cell_type": "code",
   "execution_count": 241,
   "metadata": {},
   "outputs": [],
   "source": [
    "from sklearn.cross_validation import train_test_split\n",
    "\n",
    "X_train, X_test, y_train, y_test = train_test_split(X, y, test_size=0.3, random_state=42)"
   ]
  },
  {
   "cell_type": "markdown",
   "metadata": {},
   "source": [
    "# Decision Tree"
   ]
  },
  {
   "cell_type": "code",
   "execution_count": 242,
   "metadata": {},
   "outputs": [],
   "source": [
    "from scipy.stats import randint as randint\n",
    "from scipy.stats import uniform\n",
    "\n",
    "from sklearn.tree import DecisionTreeClassifier\n",
    "from sklearn.neighbors import KNeighborsClassifier\n",
    "from sklearn.pipeline import Pipeline\n",
    "from sklearn.preprocessing import StandardScaler\n",
    "from sklearn.linear_model import LogisticRegression\n",
    "\n",
    "try:\n",
    "    from sklearn.model_selection import GridSearchCV\n",
    "    from sklearn.model_selection import RandomizedSearchCV\n",
    "    from sklearn.model_selection import StratifiedKFold\n",
    "except ImportError:\n",
    "    from sklearn.cross_validation import GridSearchCV\n",
    "    from sklearn.cross_validation import RandomizedSearchCV\n",
    "    from sklearn.cross_validation import StratifiedKFold\n",
    "\n",
    "\n",
    "RND_SEED = 456"
   ]
  },
  {
   "cell_type": "code",
   "execution_count": 243,
   "metadata": {},
   "outputs": [
    {
     "name": "stdout",
     "output_type": "stream",
     "text": [
      "Fitting 5 folds for each of 200 candidates, totalling 1000 fits\n"
     ]
    },
    {
     "name": "stderr",
     "output_type": "stream",
     "text": [
      "[Parallel(n_jobs=-1)]: Done  42 tasks      | elapsed:    2.9s\n",
      "[Parallel(n_jobs=-1)]: Done 192 tasks      | elapsed:   10.7s\n",
      "[Parallel(n_jobs=-1)]: Done 442 tasks      | elapsed:   23.4s\n",
      "[Parallel(n_jobs=-1)]: Done 792 tasks      | elapsed:   43.3s\n",
      "[Parallel(n_jobs=-1)]: Done 1000 out of 1000 | elapsed:   52.4s finished\n"
     ]
    },
    {
     "data": {
      "text/plain": [
       "RandomizedSearchCV(cv=StratifiedKFold(n_splits=5, random_state=456, shuffle=True),\n",
       "          error_score='raise',\n",
       "          estimator=DecisionTreeClassifier(class_weight=None, criterion='gini', max_depth=None,\n",
       "            max_features=None, max_leaf_nodes=None,\n",
       "            min_impurity_decrease=0.0, min_impurity_split=None,\n",
       "            min_samples_leaf=1, min_samples_split=2,\n",
       "            min_weight_fraction_leaf=0.0, presort=True, random_state=456,\n",
       "            splitter='best'),\n",
       "          fit_params=None, iid=True, n_iter=200, n_jobs=-1,\n",
       "          param_distributions={'max_features': [None, 'auto', 'sqrt', 'log2'], 'criterion': ['gini', 'entropy'], 'max_depth': <scipy.stats._distn_infrastructure.rv_frozen object at 0x7f6ed8634b70>, 'min_samples_leaf': <scipy.stats._distn_infrastructure.rv_frozen object at 0x7f6ed8634cf8>, 'min_samples_split': <scipy.stats._distn_infrastructure.rv_frozen object at 0x7f6ed8634e80>, 'class_weight': [None, 'balanced']},\n",
       "          pre_dispatch='2*n_jobs', random_state=456, refit=True,\n",
       "          return_train_score='warn', scoring='roc_auc', verbose=True)"
      ]
     },
     "execution_count": 243,
     "metadata": {},
     "output_type": "execute_result"
    }
   ],
   "source": [
    "tree_model = DecisionTreeClassifier(random_state=RND_SEED, presort=True)\n",
    "tree_params = {\n",
    "    'max_features': [None, 'auto', 'sqrt', 'log2'],\n",
    "    'criterion': ['gini', 'entropy'],\n",
    "    'max_depth': randint(1, 10),\n",
    "    'min_samples_leaf': randint(1, 10),\n",
    "    'min_samples_split': randint(2, 10),\n",
    "    'class_weight': [None, 'balanced'],\n",
    "}\n",
    "\n",
    "cv = StratifiedKFold(n_splits=5, random_state=RND_SEED, shuffle=True)\n",
    "tree_search = RandomizedSearchCV(tree_model, param_distributions=tree_params, n_iter=200, n_jobs=-1,\n",
    "                                             cv=cv, scoring='roc_auc', random_state=RND_SEED, verbose=True)\n",
    "tree_search.fit(X_train, y_train)"
   ]
  },
  {
   "cell_type": "code",
   "execution_count": 244,
   "metadata": {},
   "outputs": [
    {
     "data": {
      "text/plain": [
       "0.9334362143329752"
      ]
     },
     "execution_count": 244,
     "metadata": {},
     "output_type": "execute_result"
    }
   ],
   "source": [
    "tree_search.best_score_"
   ]
  },
  {
   "cell_type": "code",
   "execution_count": 245,
   "metadata": {},
   "outputs": [
    {
     "data": {
      "text/plain": [
       "DecisionTreeClassifier(class_weight='balanced', criterion='entropy',\n",
       "            max_depth=6, max_features=None, max_leaf_nodes=None,\n",
       "            min_impurity_decrease=0.0, min_impurity_split=None,\n",
       "            min_samples_leaf=9, min_samples_split=7,\n",
       "            min_weight_fraction_leaf=0.0, presort=True, random_state=456,\n",
       "            splitter='best')"
      ]
     },
     "execution_count": 245,
     "metadata": {},
     "output_type": "execute_result"
    }
   ],
   "source": [
    "tree_search.best_estimator_"
   ]
  },
  {
   "cell_type": "code",
   "execution_count": 246,
   "metadata": {},
   "outputs": [
    {
     "data": {
      "text/plain": [
       "{'class_weight': 'balanced',\n",
       " 'criterion': 'entropy',\n",
       " 'max_depth': 6,\n",
       " 'max_features': None,\n",
       " 'min_samples_leaf': 9,\n",
       " 'min_samples_split': 7}"
      ]
     },
     "execution_count": 246,
     "metadata": {},
     "output_type": "execute_result"
    }
   ],
   "source": [
    "tree_search.best_params_"
   ]
  },
  {
   "cell_type": "code",
   "execution_count": 247,
   "metadata": {},
   "outputs": [
    {
     "data": {
      "text/plain": [
       "{'class_weight': 'balanced',\n",
       " 'criterion': 'entropy',\n",
       " 'max_depth': 6,\n",
       " 'max_features': None,\n",
       " 'min_samples_leaf': 9,\n",
       " 'min_samples_split': 7}"
      ]
     },
     "execution_count": 247,
     "metadata": {},
     "output_type": "execute_result"
    }
   ],
   "source": [
    "tree_search.best_params_"
   ]
  },
  {
   "cell_type": "markdown",
   "metadata": {},
   "source": [
    "# KNN "
   ]
  },
  {
   "cell_type": "code",
   "execution_count": 251,
   "metadata": {},
   "outputs": [
    {
     "name": "stdout",
     "output_type": "stream",
     "text": [
      "Fitting 5 folds for each of 12 candidates, totalling 60 fits\n"
     ]
    },
    {
     "name": "stderr",
     "output_type": "stream",
     "text": [
      "[Parallel(n_jobs=-1)]: Done  42 tasks      | elapsed:  9.1min\n",
      "[Parallel(n_jobs=-1)]: Done  60 out of  60 | elapsed: 12.7min finished\n"
     ]
    },
    {
     "data": {
      "text/plain": [
       "GridSearchCV(cv=StratifiedKFold(n_splits=5, random_state=456, shuffle=True),\n",
       "       error_score='raise',\n",
       "       estimator=Pipeline(memory=None,\n",
       "     steps=[('scaler', StandardScaler(copy=True, with_mean=True, with_std=True)), ('knn', KNeighborsClassifier(algorithm='auto', leaf_size=30, metric='minkowski',\n",
       "           metric_params=None, n_jobs=1, n_neighbors=5, p=2,\n",
       "           weights='uniform'))]),\n",
       "       fit_params=None, iid=True, n_jobs=-1,\n",
       "       param_grid={'knn__n_neighbors': range(5, 11), 'knn__weights': ['uniform', 'distance'], 'knn__algorithm': ['auto']},\n",
       "       pre_dispatch='2*n_jobs', refit=True, return_train_score='warn',\n",
       "       scoring='roc_auc', verbose=True)"
      ]
     },
     "execution_count": 251,
     "metadata": {},
     "output_type": "execute_result"
    }
   ],
   "source": [
    "knn_model = Pipeline([\n",
    "    ('scaler', StandardScaler()),\n",
    "    ('knn', KNeighborsClassifier())\n",
    "])\n",
    "knn_params = {\n",
    "    'knn__n_neighbors': range(5, 11),\n",
    "#     'leaf_size': range(1, 5),\n",
    "    'knn__weights': ['uniform', 'distance'],\n",
    "    'knn__algorithm': ['auto'],\n",
    "}\n",
    "\n",
    "cv = StratifiedKFold(n_splits=5, random_state=RND_SEED, shuffle=True)\n",
    "knn_search = GridSearchCV(knn_model, param_grid=knn_params, n_jobs=-1,\n",
    "                                     cv=cv, scoring='roc_auc', verbose=True)\n",
    "knn_search.fit(X_train, y_train)"
   ]
  },
  {
   "cell_type": "code",
   "execution_count": 252,
   "metadata": {},
   "outputs": [
    {
     "data": {
      "text/plain": [
       "{'knn__algorithm': 'auto', 'knn__n_neighbors': 10, 'knn__weights': 'distance'}"
      ]
     },
     "execution_count": 252,
     "metadata": {},
     "output_type": "execute_result"
    }
   ],
   "source": [
    "knn_search.best_params_"
   ]
  },
  {
   "cell_type": "code",
   "execution_count": 253,
   "metadata": {},
   "outputs": [
    {
     "data": {
      "text/plain": [
       "0.8202910333662392"
      ]
     },
     "execution_count": 253,
     "metadata": {},
     "output_type": "execute_result"
    }
   ],
   "source": [
    "knn_search.best_score_"
   ]
  },
  {
   "cell_type": "markdown",
   "metadata": {},
   "source": [
    "# Logistic Regression"
   ]
  },
  {
   "cell_type": "code",
   "execution_count": 254,
   "metadata": {},
   "outputs": [
    {
     "data": {
      "text/plain": [
       "0.9330766607580344"
      ]
     },
     "execution_count": 254,
     "metadata": {},
     "output_type": "execute_result"
    }
   ],
   "source": [
    "from sklearn.metrics import roc_auc_score\n",
    "logistic_model_basic = LogisticRegression()\n",
    "logistic_model_basic.fit(X_train, y_train)\n",
    "y_hat = logistic_model_basic.predict_proba(X_test)[:, 1]\n",
    "roc_auc_score(y_test, y_hat)"
   ]
  },
  {
   "cell_type": "code",
   "execution_count": 255,
   "metadata": {},
   "outputs": [
    {
     "name": "stdout",
     "output_type": "stream",
     "text": [
      "Fitting 5 folds for each of 6 candidates, totalling 30 fits\n"
     ]
    },
    {
     "name": "stderr",
     "output_type": "stream",
     "text": [
      "[Parallel(n_jobs=-1)]: Done  30 out of  30 | elapsed:  5.8min finished\n"
     ]
    },
    {
     "data": {
      "text/plain": [
       "GridSearchCV(cv=StratifiedKFold(n_splits=5, random_state=456, shuffle=True),\n",
       "       error_score='raise',\n",
       "       estimator=LogisticRegression(C=1.0, class_weight=None, dual=False, fit_intercept=True,\n",
       "          intercept_scaling=1, max_iter=100, multi_class='ovr', n_jobs=1,\n",
       "          penalty='l2', random_state=None, solver='liblinear', tol=0.0001,\n",
       "          verbose=0, warm_start=False),\n",
       "       fit_params=None, iid=True, n_jobs=-1,\n",
       "       param_grid={'penalty': ['l1', 'l2'], 'C': [0.1, 1, 10]},\n",
       "       pre_dispatch='2*n_jobs', refit=True, return_train_score='warn',\n",
       "       scoring='roc_auc', verbose=True)"
      ]
     },
     "execution_count": 255,
     "metadata": {},
     "output_type": "execute_result"
    }
   ],
   "source": [
    "logistic_model = LogisticRegression()\n",
    "logistic_params = {\n",
    "    'penalty': ['l1','l2'],\n",
    "#     'C': [0.001, 0.01, 0.1, 1, 10, 100, 1000]\n",
    "    'C': [0.1, 1, 10]\n",
    "}\n",
    "\n",
    "cv = StratifiedKFold(n_splits=5, random_state=RND_SEED, shuffle=True)\n",
    "logistic_search = GridSearchCV(logistic_model, param_grid=logistic_params, n_jobs=-1,\n",
    "                                               cv=cv, scoring='roc_auc', verbose=True)\n",
    "logistic_search.fit(X_train, y_train)"
   ]
  },
  {
   "cell_type": "code",
   "execution_count": 256,
   "metadata": {},
   "outputs": [
    {
     "data": {
      "text/plain": [
       "{'C': 0.1, 'penalty': 'l1'}"
      ]
     },
     "execution_count": 256,
     "metadata": {},
     "output_type": "execute_result"
    }
   ],
   "source": [
    "logistic_search.best_params_"
   ]
  },
  {
   "cell_type": "code",
   "execution_count": 257,
   "metadata": {},
   "outputs": [
    {
     "data": {
      "text/plain": [
       "0.9325025646835154"
      ]
     },
     "execution_count": 257,
     "metadata": {},
     "output_type": "execute_result"
    }
   ],
   "source": [
    "logistic_search.best_score_"
   ]
  },
  {
   "cell_type": "code",
   "execution_count": 258,
   "metadata": {},
   "outputs": [
    {
     "data": {
      "text/plain": [
       "LogisticRegression(C=0.1, class_weight=None, dual=False, fit_intercept=True,\n",
       "          intercept_scaling=1, max_iter=100, multi_class='ovr', n_jobs=1,\n",
       "          penalty='l1', random_state=None, solver='liblinear', tol=0.0001,\n",
       "          verbose=0, warm_start=False)"
      ]
     },
     "execution_count": 258,
     "metadata": {},
     "output_type": "execute_result"
    }
   ],
   "source": [
    "logistic_search.best_estimator_"
   ]
  },
  {
   "cell_type": "markdown",
   "metadata": {},
   "source": [
    "# Model Comparison"
   ]
  },
  {
   "cell_type": "code",
   "execution_count": 259,
   "metadata": {},
   "outputs": [],
   "source": [
    "best_models = [\n",
    "    tree_search.best_estimator_,\n",
    "    knn_search.best_estimator_,\n",
    "    logistic_search.best_estimator_,\n",
    "    logistic_model_basic\n",
    "]\n",
    "best_y_hats = [model.predict_proba(X_test)[:, 1] for model in best_models]"
   ]
  },
  {
   "cell_type": "code",
   "execution_count": 260,
   "metadata": {},
   "outputs": [
    {
     "data": {
      "image/png": "[encoded data removed]",
      "text/plain": [
       "<Figure size 720x720 with 1 Axes>"
      ]
     },
     "metadata": {},
     "output_type": "display_data"
    }
   ],
   "source": [
    "from sklearn.metrics import roc_auc_score, roc_curve\n",
    "plt.figure(figsize=(10, 10), facecolor='white')\n",
    "\n",
    "for model, y_hat in zip(best_models, best_y_hats):\n",
    "    fpr, tpr, thresholds = roc_curve(y_test, y_hat)\n",
    "    plt.plot(fpr, tpr)\n",
    "\n",
    "plt.grid(True)\n",
    "plt.title('ROC curve')\n",
    "plt.legend([model.__class__.__name__ for model in best_models])\n",
    "plt.ylabel('tpr')\n",
    "plt.xlabel('fpr')\n",
    "plt.xlim((-0.01, 1.01))\n",
    "plt.ylim((-0.01, 1.01))\n",
    "pass"
   ]
  },
  {
   "cell_type": "code",
   "execution_count": 261,
   "metadata": {},
   "outputs": [
    {
     "name": "stdout",
     "output_type": "stream",
     "text": [
      "model = DecisionTreeClassifier\n",
      "roc: 0.93156556370392\n",
      "\n",
      "model = Pipeline\n",
      "roc: 0.8376524298054304\n",
      "\n",
      "model = LogisticRegression\n",
      "roc: 0.9344501063571865\n",
      "\n",
      "model = LogisticRegression\n",
      "roc: 0.9330766607580344\n",
      "\n"
     ]
    }
   ],
   "source": [
    "for model, y_hat in zip(best_models, best_y_hats):\n",
    "    print('model = {}'.format(model.__class__.__name__))\n",
    "    print('roc:', roc_auc_score(y_test, y_hat))\n",
    "    print()"
   ]
  },
  {
   "cell_type": "markdown",
   "metadata": {},
   "source": [
    "# Prediction"
   ]
  },
  {
   "cell_type": "code",
   "execution_count": 262,
   "metadata": {},
   "outputs": [],
   "source": [
    "final_ids = df_test._id"
   ]
  },
  {
   "cell_type": "code",
   "execution_count": 263,
   "metadata": {},
   "outputs": [],
   "source": [
    "y_final_hat = tree_search.best_estimator_.predict(X_final_test)"
   ]
  },
  {
   "cell_type": "code",
   "execution_count": 264,
   "metadata": {},
   "outputs": [],
   "source": [
    "df_predict = pd.DataFrame({'_id': final_ids, 'target': y_final_hat})"
   ]
  },
  {
   "cell_type": "code",
   "execution_count": 265,
   "metadata": {},
   "outputs": [],
   "source": [
    "df_predict.to_csv('hw3.csv', sep=',', encoding='utf8', index=False)"
   ]
  },
  {
   "cell_type": "code",
   "execution_count": null,
   "metadata": {},
   "outputs": [],
   "source": []
  }
 ],
 "metadata": {
  "anaconda-cloud": {},
  "kernelspec": {
   "display_name": "Python 3",
   "language": "python",
   "name": "python3"
  },
  "language_info": {
   "codemirror_mode": {
    "name": "ipython",
    "version": 3
   },
   "file_extension": ".py",
   "mimetype": "text/x-python",
   "name": "python",
   "nbconvert_exporter": "python",
   "pygments_lexer": "ipython3",
   "version": "3.6.6"
  },
  "toc": {
   "base_numbering": 1,
   "nav_menu": {
    "height": "31px",
    "width": "253px"
   },
   "number_sections": false,
   "sideBar": true,
   "skip_h1_title": false,
   "title_cell": "Table of Contents",
   "title_sidebar": "Contents",
   "toc_cell": false,
   "toc_position": {},
   "toc_section_display": "block",
   "toc_window_display": false
  }
 },
 "nbformat": 4,
 "nbformat_minor": 2
}
